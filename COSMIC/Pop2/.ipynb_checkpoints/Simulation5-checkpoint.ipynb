{
 "cells": [
  {
   "cell_type": "code",
   "execution_count": 1,
   "id": "ef52a9f7-883b-4224-96ce-d5cbc17d419d",
   "metadata": {},
   "outputs": [],
   "source": [
    "import numpy as np\n",
    "import matplotlib.pyplot as plt\n",
    "import pandas as pd"
   ]
  },
  {
   "cell_type": "code",
   "execution_count": 2,
   "id": "103041a3-1f08-429c-8a29-e85686d608fd",
   "metadata": {},
   "outputs": [],
   "source": [
    "from cosmic.sample.initialbinarytable import InitialBinaryTable\n",
    "from cosmic.sample.sampler import independent"
   ]
  },
  {
   "cell_type": "code",
   "execution_count": 3,
   "id": "ec9a4923-2a09-492d-8d1b-3c84cc31c823",
   "metadata": {},
   "outputs": [],
   "source": [
    "InitialBinaries, mass_singles, mass_binaries, n_singles, n_binaries = InitialBinaryTable.sampler('independent', final_kstar1=[14], final_kstar2=[14], binfrac_model=1.0, primary_model='custom', alphas = [0,-2.3,-2.3], mcuts = [1.0,5.0,10.0,150.], ecc_model='sana12', porb_model='sana12', qmin=-1, SF_start=13700.0, SF_duration=0.0, met=0.02, size=100)"
   ]
  },
  {
   "cell_type": "code",
   "execution_count": 4,
   "id": "ed841edd-2f12-4b42-a066-c3f434df7419",
   "metadata": {},
   "outputs": [
    {
     "data": {
      "image/png": "[encoded data removed]",
      "text/plain": [
       "<Figure size 432x288 with 1 Axes>"
      ]
     },
     "metadata": {
      "needs_background": "light"
     },
     "output_type": "display_data"
    }
   ],
   "source": [
    "plt.hist(InitialBinaries.mass_1, bins = 20, histtype='step', density=True,\n",
    "         lw=3, color=\"c\", label='$m_1$')\n",
    "# plt.hist(np.log10(InitialBinaries.mass_2), bins = 20, histtype='step', density=True,\n",
    "#          lw=3, color=\"r\", label='$m_2$')\n",
    "plt.xlabel(r'Log$_{10}$(M/M$_{\\odot}$)', size=18)\n",
    "plt.ylabel('normalized counts', size=18)\n",
    "plt.legend()\n",
    "plt.xlim(0,80)\n",
    "plt.legend(prop={'size' : 18})\n",
    "plt.show()"
   ]
  },
  {
   "cell_type": "code",
   "execution_count": 60,
   "id": "66a5f1fe-3e8e-4a06-828d-8c89a81dc5a5",
   "metadata": {},
   "outputs": [],
   "source": [
    "from cosmic.evolve import Evolve"
   ]
  },
  {
   "cell_type": "code",
   "execution_count": 61,
   "id": "9a899a1f-bf02-4804-a3a4-595feee160b6",
   "metadata": {},
   "outputs": [],
   "source": [
    "BSEDict = {'xi': 1.0, 'bhflag': 1, 'neta': 0.5, 'windflag': 3, 'wdflag': 1, 'alpha1': 1.0, 'pts1': 0.001, 'pts3': 0.02, 'pts2': 0.01, 'epsnov': 0.001, 'hewind': 0.5, 'ck': 1000, 'bwind': 0.0, 'lambdaf': 0.0, 'mxns': 3.0, 'beta': -1.0, 'tflag': 1, 'acc2': 1.5, 'grflag' : 1, 'remnantflag': 4, 'ceflag': 0, 'eddfac': 1.0, 'ifflag': 0, 'bconst': 3000, 'sigma': 265.0, 'gamma': -2.0, 'pisn': 45.0, 'natal_kick_array' : [[-100.0,-100.0,-100.0,-100.0,0.0], [-100.0,-100.0,-100.0,-100.0,0.0]], 'bhsigmafrac' : 1.0, 'polar_kick_angle' : 90, 'qcrit_array' : [0.0,0.0,0.0,0.0,0.0,0.0,0.0,0.0,0.0,0.0,0.0,0.0,0.0,0.0,0.0,0.0], 'cekickflag' : 2, 'cehestarflag' : 0, 'cemergeflag' : 0, 'ecsn' : 2.25, 'ecsn_mlow' : 1.6, 'aic' : 1, 'ussn' : 0, 'sigmadiv' :-20.0, 'qcflag' : 1, 'eddlimflag' : 0, 'fprimc_array' : [2.0/21.0,2.0/21.0,2.0/21.0,2.0/21.0,2.0/21.0,2.0/21.0,2.0/21.0,2.0/21.0,2.0/21.0,2.0/21.0,2.0/21.0,2.0/21.0,2.0/21.0,2.0/21.0,2.0/21.0,2.0/21.0], 'bhspinflag' : 0, 'bhspinmag' : 0.0, 'rejuv_fac' : 1.0, 'rejuvflag' : 0, 'htpmb' : 1, 'ST_cr' : 1, 'ST_tide' : 1, 'bdecayfac' : 1, 'rembar_massloss' : 0.5, 'kickflag' : 0, 'zsun' : 0.014, 'bhms_coll_flag' : 0, 'don_lim' : -1, 'acc_lim' : -1}"
   ]
  },
  {
   "cell_type": "code",
   "execution_count": 62,
   "id": "4f404e4e-b57a-4b1c-ab4d-216a59308b53",
   "metadata": {},
   "outputs": [],
   "source": [
    "bpp, bcm, initC, kick_info  = Evolve.evolve(initialbinarytable=InitialBinaries, BSEDict=BSEDict)"
   ]
  },
  {
   "cell_type": "code",
   "execution_count": 63,
   "id": "1e7748f1-8a4e-4b3d-a492-66b7783ab51b",
   "metadata": {},
   "outputs": [
    {
     "data": {
      "text/html": [
       "<div>\n",
       "<style scoped>\n",
       "    .dataframe tbody tr th:only-of-type {\n",
       "        vertical-align: middle;\n",
       "    }\n",
       "\n",
       "    .dataframe tbody tr th {\n",
       "        vertical-align: top;\n",
       "    }\n",
       "\n",
       "    .dataframe thead th {\n",
       "        text-align: right;\n",
       "    }\n",
       "</style>\n",
       "<table border=\"1\" class=\"dataframe\">\n",
       "  <thead>\n",
       "    <tr style=\"text-align: right;\">\n",
       "      <th></th>\n",
       "      <th>tphys</th>\n",
       "      <th>kstar_1</th>\n",
       "      <th>mass0_1</th>\n",
       "      <th>mass_1</th>\n",
       "      <th>lum_1</th>\n",
       "      <th>rad_1</th>\n",
       "      <th>teff_1</th>\n",
       "      <th>massc_1</th>\n",
       "      <th>radc_1</th>\n",
       "      <th>menv_1</th>\n",
       "      <th>...</th>\n",
       "      <th>porb</th>\n",
       "      <th>sep</th>\n",
       "      <th>ecc</th>\n",
       "      <th>B_1</th>\n",
       "      <th>B_2</th>\n",
       "      <th>SN_1</th>\n",
       "      <th>SN_2</th>\n",
       "      <th>bin_state</th>\n",
       "      <th>merger_type</th>\n",
       "      <th>bin_num</th>\n",
       "    </tr>\n",
       "  </thead>\n",
       "  <tbody>\n",
       "    <tr>\n",
       "      <th>0</th>\n",
       "      <td>0.0</td>\n",
       "      <td>1.0</td>\n",
       "      <td>12.690378</td>\n",
       "      <td>12.690378</td>\n",
       "      <td>1.203349e+04</td>\n",
       "      <td>4.805262</td>\n",
       "      <td>27701.864509</td>\n",
       "      <td>0.000000</td>\n",
       "      <td>0.000000</td>\n",
       "      <td>1.000000e-10</td>\n",
       "      <td>...</td>\n",
       "      <td>1604.698621</td>\n",
       "      <td>1667.000812</td>\n",
       "      <td>0.025978</td>\n",
       "      <td>0.000000e+00</td>\n",
       "      <td>0.000000e+00</td>\n",
       "      <td>0.0</td>\n",
       "      <td>0.0</td>\n",
       "      <td>0</td>\n",
       "      <td>-001</td>\n",
       "      <td>0</td>\n",
       "    </tr>\n",
       "    <tr>\n",
       "      <th>0</th>\n",
       "      <td>13700.0</td>\n",
       "      <td>13.0</td>\n",
       "      <td>3.747015</td>\n",
       "      <td>1.297046</td>\n",
       "      <td>1.271702e-10</td>\n",
       "      <td>0.000014</td>\n",
       "      <td>5203.576805</td>\n",
       "      <td>1.297046</td>\n",
       "      <td>0.000014</td>\n",
       "      <td>1.000000e-10</td>\n",
       "      <td>...</td>\n",
       "      <td>-1.000000</td>\n",
       "      <td>-1.000000</td>\n",
       "      <td>-1.000000</td>\n",
       "      <td>9.198310e+10</td>\n",
       "      <td>6.726373e+09</td>\n",
       "      <td>1.0</td>\n",
       "      <td>1.0</td>\n",
       "      <td>2</td>\n",
       "      <td>-001</td>\n",
       "      <td>0</td>\n",
       "    </tr>\n",
       "    <tr>\n",
       "      <th>1</th>\n",
       "      <td>0.0</td>\n",
       "      <td>1.0</td>\n",
       "      <td>10.721656</td>\n",
       "      <td>10.721656</td>\n",
       "      <td>7.098581e+03</td>\n",
       "      <td>4.341272</td>\n",
       "      <td>25541.945764</td>\n",
       "      <td>0.000000</td>\n",
       "      <td>0.000000</td>\n",
       "      <td>1.000000e-10</td>\n",
       "      <td>...</td>\n",
       "      <td>1466.058290</td>\n",
       "      <td>1472.914577</td>\n",
       "      <td>0.497914</td>\n",
       "      <td>0.000000e+00</td>\n",
       "      <td>0.000000e+00</td>\n",
       "      <td>0.0</td>\n",
       "      <td>0.0</td>\n",
       "      <td>0</td>\n",
       "      <td>-001</td>\n",
       "      <td>1</td>\n",
       "    </tr>\n",
       "    <tr>\n",
       "      <th>1</th>\n",
       "      <td>13700.0</td>\n",
       "      <td>15.0</td>\n",
       "      <td>1.325067</td>\n",
       "      <td>0.000000</td>\n",
       "      <td>6.465907e-01</td>\n",
       "      <td>0.002676</td>\n",
       "      <td>100501.052223</td>\n",
       "      <td>0.000000</td>\n",
       "      <td>0.002676</td>\n",
       "      <td>1.000000e-10</td>\n",
       "      <td>...</td>\n",
       "      <td>0.000000</td>\n",
       "      <td>0.000000</td>\n",
       "      <td>-1.000000</td>\n",
       "      <td>0.000000e+00</td>\n",
       "      <td>1.907277e+10</td>\n",
       "      <td>0.0</td>\n",
       "      <td>1.0</td>\n",
       "      <td>1</td>\n",
       "      <td>0212</td>\n",
       "      <td>1</td>\n",
       "    </tr>\n",
       "    <tr>\n",
       "      <th>2</th>\n",
       "      <td>0.0</td>\n",
       "      <td>1.0</td>\n",
       "      <td>72.393085</td>\n",
       "      <td>72.393085</td>\n",
       "      <td>7.415913e+05</td>\n",
       "      <td>14.831729</td>\n",
       "      <td>44178.898217</td>\n",
       "      <td>0.000000</td>\n",
       "      <td>0.000000</td>\n",
       "      <td>1.000000e-10</td>\n",
       "      <td>...</td>\n",
       "      <td>2.247466</td>\n",
       "      <td>37.390809</td>\n",
       "      <td>0.021889</td>\n",
       "      <td>0.000000e+00</td>\n",
       "      <td>0.000000e+00</td>\n",
       "      <td>0.0</td>\n",
       "      <td>0.0</td>\n",
       "      <td>0</td>\n",
       "      <td>-001</td>\n",
       "      <td>2</td>\n",
       "    </tr>\n",
       "    <tr>\n",
       "      <th>...</th>\n",
       "      <td>...</td>\n",
       "      <td>...</td>\n",
       "      <td>...</td>\n",
       "      <td>...</td>\n",
       "      <td>...</td>\n",
       "      <td>...</td>\n",
       "      <td>...</td>\n",
       "      <td>...</td>\n",
       "      <td>...</td>\n",
       "      <td>...</td>\n",
       "      <td>...</td>\n",
       "      <td>...</td>\n",
       "      <td>...</td>\n",
       "      <td>...</td>\n",
       "      <td>...</td>\n",
       "      <td>...</td>\n",
       "      <td>...</td>\n",
       "      <td>...</td>\n",
       "      <td>...</td>\n",
       "      <td>...</td>\n",
       "      <td>...</td>\n",
       "    </tr>\n",
       "    <tr>\n",
       "      <th>100</th>\n",
       "      <td>13700.0</td>\n",
       "      <td>13.0</td>\n",
       "      <td>5.040649</td>\n",
       "      <td>1.784683</td>\n",
       "      <td>1.572557e-10</td>\n",
       "      <td>0.000014</td>\n",
       "      <td>5487.280758</td>\n",
       "      <td>1.784683</td>\n",
       "      <td>0.000014</td>\n",
       "      <td>1.000000e-10</td>\n",
       "      <td>...</td>\n",
       "      <td>-1.000000</td>\n",
       "      <td>-1.000000</td>\n",
       "      <td>-1.000000</td>\n",
       "      <td>1.776638e+10</td>\n",
       "      <td>0.000000e+00</td>\n",
       "      <td>1.0</td>\n",
       "      <td>1.0</td>\n",
       "      <td>2</td>\n",
       "      <td>-001</td>\n",
       "      <td>100</td>\n",
       "    </tr>\n",
       "    <tr>\n",
       "      <th>101</th>\n",
       "      <td>0.0</td>\n",
       "      <td>1.0</td>\n",
       "      <td>18.241022</td>\n",
       "      <td>18.241022</td>\n",
       "      <td>3.476454e+04</td>\n",
       "      <td>6.003396</td>\n",
       "      <td>32311.358144</td>\n",
       "      <td>0.000000</td>\n",
       "      <td>0.000000</td>\n",
       "      <td>1.000000e-10</td>\n",
       "      <td>...</td>\n",
       "      <td>30.365814</td>\n",
       "      <td>132.617713</td>\n",
       "      <td>0.124403</td>\n",
       "      <td>0.000000e+00</td>\n",
       "      <td>0.000000e+00</td>\n",
       "      <td>0.0</td>\n",
       "      <td>0.0</td>\n",
       "      <td>0</td>\n",
       "      <td>-001</td>\n",
       "      <td>101</td>\n",
       "    </tr>\n",
       "    <tr>\n",
       "      <th>101</th>\n",
       "      <td>13700.0</td>\n",
       "      <td>13.0</td>\n",
       "      <td>3.788631</td>\n",
       "      <td>1.310500</td>\n",
       "      <td>1.279257e-10</td>\n",
       "      <td>0.000014</td>\n",
       "      <td>5211.287638</td>\n",
       "      <td>1.310500</td>\n",
       "      <td>0.000014</td>\n",
       "      <td>1.000000e-10</td>\n",
       "      <td>...</td>\n",
       "      <td>-1.000000</td>\n",
       "      <td>-1.000000</td>\n",
       "      <td>-1.000000</td>\n",
       "      <td>1.667996e+11</td>\n",
       "      <td>1.635559e+11</td>\n",
       "      <td>1.0</td>\n",
       "      <td>1.0</td>\n",
       "      <td>2</td>\n",
       "      <td>-001</td>\n",
       "      <td>101</td>\n",
       "    </tr>\n",
       "    <tr>\n",
       "      <th>102</th>\n",
       "      <td>0.0</td>\n",
       "      <td>1.0</td>\n",
       "      <td>30.227871</td>\n",
       "      <td>30.227871</td>\n",
       "      <td>1.261300e+05</td>\n",
       "      <td>8.267339</td>\n",
       "      <td>38000.677680</td>\n",
       "      <td>0.000000</td>\n",
       "      <td>0.000000</td>\n",
       "      <td>1.000000e-10</td>\n",
       "      <td>...</td>\n",
       "      <td>6775.306935</td>\n",
       "      <td>5109.746401</td>\n",
       "      <td>0.765145</td>\n",
       "      <td>0.000000e+00</td>\n",
       "      <td>0.000000e+00</td>\n",
       "      <td>0.0</td>\n",
       "      <td>0.0</td>\n",
       "      <td>0</td>\n",
       "      <td>-001</td>\n",
       "      <td>102</td>\n",
       "    </tr>\n",
       "    <tr>\n",
       "      <th>102</th>\n",
       "      <td>13700.0</td>\n",
       "      <td>13.0</td>\n",
       "      <td>5.537498</td>\n",
       "      <td>1.918832</td>\n",
       "      <td>1.650604e-10</td>\n",
       "      <td>0.000014</td>\n",
       "      <td>5554.133197</td>\n",
       "      <td>1.918832</td>\n",
       "      <td>0.000014</td>\n",
       "      <td>1.000000e-10</td>\n",
       "      <td>...</td>\n",
       "      <td>-1.000000</td>\n",
       "      <td>-1.000000</td>\n",
       "      <td>-1.000000</td>\n",
       "      <td>6.650504e+10</td>\n",
       "      <td>6.227371e+10</td>\n",
       "      <td>1.0</td>\n",
       "      <td>1.0</td>\n",
       "      <td>2</td>\n",
       "      <td>-001</td>\n",
       "      <td>102</td>\n",
       "    </tr>\n",
       "  </tbody>\n",
       "</table>\n",
       "<p>206 rows × 39 columns</p>\n",
       "</div>"
      ],
      "text/plain": [
       "       tphys  kstar_1    mass0_1     mass_1         lum_1      rad_1  \\\n",
       "0        0.0      1.0  12.690378  12.690378  1.203349e+04   4.805262   \n",
       "0    13700.0     13.0   3.747015   1.297046  1.271702e-10   0.000014   \n",
       "1        0.0      1.0  10.721656  10.721656  7.098581e+03   4.341272   \n",
       "1    13700.0     15.0   1.325067   0.000000  6.465907e-01   0.002676   \n",
       "2        0.0      1.0  72.393085  72.393085  7.415913e+05  14.831729   \n",
       "..       ...      ...        ...        ...           ...        ...   \n",
       "100  13700.0     13.0   5.040649   1.784683  1.572557e-10   0.000014   \n",
       "101      0.0      1.0  18.241022  18.241022  3.476454e+04   6.003396   \n",
       "101  13700.0     13.0   3.788631   1.310500  1.279257e-10   0.000014   \n",
       "102      0.0      1.0  30.227871  30.227871  1.261300e+05   8.267339   \n",
       "102  13700.0     13.0   5.537498   1.918832  1.650604e-10   0.000014   \n",
       "\n",
       "            teff_1   massc_1    radc_1        menv_1  ...         porb  \\\n",
       "0     27701.864509  0.000000  0.000000  1.000000e-10  ...  1604.698621   \n",
       "0      5203.576805  1.297046  0.000014  1.000000e-10  ...    -1.000000   \n",
       "1     25541.945764  0.000000  0.000000  1.000000e-10  ...  1466.058290   \n",
       "1    100501.052223  0.000000  0.002676  1.000000e-10  ...     0.000000   \n",
       "2     44178.898217  0.000000  0.000000  1.000000e-10  ...     2.247466   \n",
       "..             ...       ...       ...           ...  ...          ...   \n",
       "100    5487.280758  1.784683  0.000014  1.000000e-10  ...    -1.000000   \n",
       "101   32311.358144  0.000000  0.000000  1.000000e-10  ...    30.365814   \n",
       "101    5211.287638  1.310500  0.000014  1.000000e-10  ...    -1.000000   \n",
       "102   38000.677680  0.000000  0.000000  1.000000e-10  ...  6775.306935   \n",
       "102    5554.133197  1.918832  0.000014  1.000000e-10  ...    -1.000000   \n",
       "\n",
       "             sep       ecc           B_1           B_2  SN_1  SN_2  bin_state  \\\n",
       "0    1667.000812  0.025978  0.000000e+00  0.000000e+00   0.0   0.0          0   \n",
       "0      -1.000000 -1.000000  9.198310e+10  6.726373e+09   1.0   1.0          2   \n",
       "1    1472.914577  0.497914  0.000000e+00  0.000000e+00   0.0   0.0          0   \n",
       "1       0.000000 -1.000000  0.000000e+00  1.907277e+10   0.0   1.0          1   \n",
       "2      37.390809  0.021889  0.000000e+00  0.000000e+00   0.0   0.0          0   \n",
       "..           ...       ...           ...           ...   ...   ...        ...   \n",
       "100    -1.000000 -1.000000  1.776638e+10  0.000000e+00   1.0   1.0          2   \n",
       "101   132.617713  0.124403  0.000000e+00  0.000000e+00   0.0   0.0          0   \n",
       "101    -1.000000 -1.000000  1.667996e+11  1.635559e+11   1.0   1.0          2   \n",
       "102  5109.746401  0.765145  0.000000e+00  0.000000e+00   0.0   0.0          0   \n",
       "102    -1.000000 -1.000000  6.650504e+10  6.227371e+10   1.0   1.0          2   \n",
       "\n",
       "     merger_type  bin_num  \n",
       "0           -001        0  \n",
       "0           -001        0  \n",
       "1           -001        1  \n",
       "1           0212        1  \n",
       "2           -001        2  \n",
       "..           ...      ...  \n",
       "100         -001      100  \n",
       "101         -001      101  \n",
       "101         -001      101  \n",
       "102         -001      102  \n",
       "102         -001      102  \n",
       "\n",
       "[206 rows x 39 columns]"
      ]
     },
     "execution_count": 63,
     "metadata": {},
     "output_type": "execute_result"
    }
   ],
   "source": [
    "bcm"
   ]
  },
  {
   "cell_type": "code",
   "execution_count": 64,
   "id": "35ed47ac-91f3-4666-8535-d7c4d83d77e9",
   "metadata": {},
   "outputs": [],
   "source": [
    "bh_index_1 = np.array(bcm[bcm.kstar_1==14.0].index)\n",
    "bh_final_m1 = np.array(bcm[bcm.kstar_1==14.0].mass_1)\n",
    "\n",
    "bh_index_2 = np.array(bcm[bcm.kstar_2==14.0].index)\n",
    "bh_final_m2 = np.array(bcm[bcm.kstar_2==14.0].mass_2)"
   ]
  },
  {
   "cell_type": "code",
   "execution_count": 65,
   "id": "220e4193-d2fd-4223-b8fb-a252a4c6c4e5",
   "metadata": {},
   "outputs": [],
   "source": [
    "bh_ini_m1 = []\n",
    "bh_ini_m2 = []\n",
    "\n",
    "for indx in bh_index_1:\n",
    "    bh_ini_m1.append(np.array(bcm[bcm.index==indx].mass_1)[0])\n",
    "    \n",
    "for indx in bh_index_2:\n",
    "    bh_ini_m2.append(np.array(bcm[bcm.index==indx].mass_2)[0])"
   ]
  },
  {
   "cell_type": "code",
   "execution_count": 67,
   "id": "043bf6fe-597e-48ae-8511-b24773c6bd35",
   "metadata": {},
   "outputs": [
    {
     "data": {
      "text/plain": [
       "<matplotlib.collections.PathCollection at 0x7f626ec0ed10>"
      ]
     },
     "execution_count": 67,
     "metadata": {},
     "output_type": "execute_result"
    },
    {
     "data": {
      "image/png": "[encoded data removed]",
      "text/plain": [
       "<Figure size 432x288 with 1 Axes>"
      ]
     },
     "metadata": {
      "needs_background": "light"
     },
     "output_type": "display_data"
    }
   ],
   "source": [
    "plt.scatter(bh_ini_m1,bh_final_m1,label=\"m1\")"
   ]
  },
  {
   "cell_type": "code",
   "execution_count": 11,
   "id": "74f645c8-0110-4818-934b-6941da8b8cb7",
   "metadata": {},
   "outputs": [],
   "source": [
    "x = np.log10(bh_ini_m1)\n",
    "y = np.log10(bh_final_m1)"
   ]
  },
  {
   "cell_type": "code",
   "execution_count": 12,
   "id": "9239cf3d-3e75-477c-b92a-d3a51600a51f",
   "metadata": {},
   "outputs": [],
   "source": [
    "deltaX = (max(x) - min(x))/10\n",
    "deltaY = (max(y) - min(y))/10\n",
    "\n",
    "xmin = min(x) - deltaX\n",
    "xmax = max(x) + deltaX\n",
    "\n",
    "ymin = min(y) - deltaY\n",
    "ymax = max(y) + deltaY"
   ]
  },
  {
   "cell_type": "code",
   "execution_count": 13,
   "id": "2d1c0f29-690b-4e1e-ab16-2a87713ec8b9",
   "metadata": {},
   "outputs": [
    {
     "name": "stdout",
     "output_type": "stream",
     "text": [
      "0.9505006239488127 2.2849652030389973 0.2909327935011966 1.6246980659340748\n"
     ]
    }
   ],
   "source": [
    "print(xmin, xmax, ymin, ymax)"
   ]
  },
  {
   "cell_type": "code",
   "execution_count": 14,
   "id": "e2cb43b2-d1c5-45d5-8b0f-7412957f6813",
   "metadata": {},
   "outputs": [],
   "source": [
    "xx, yy = np.mgrid[xmin:xmax:100j, ymin:ymax:100j]"
   ]
  },
  {
   "cell_type": "code",
   "execution_count": 15,
   "id": "6d275f49-0def-4c3e-af11-624312b4d7e0",
   "metadata": {},
   "outputs": [],
   "source": [
    "import scipy.stats as st"
   ]
  },
  {
   "cell_type": "code",
   "execution_count": 16,
   "id": "8c075eae-6d8b-42cf-84df-2e3a4fb34a4d",
   "metadata": {},
   "outputs": [],
   "source": [
    "positions = np.vstack([xx.ravel(), yy.ravel()])\n",
    "values = np.vstack([x, y])\n",
    "kernel = st.gaussian_kde(values)\n",
    "f = np.reshape(kernel(positions).T, xx.shape)"
   ]
  },
  {
   "cell_type": "code",
   "execution_count": 17,
   "id": "a122e768-3047-415e-b931-766573d7e7e4",
   "metadata": {},
   "outputs": [
    {
     "data": {
      "text/plain": [
       "Text(0.5, 1.0, 'Initial final mass relation for BHs')"
      ]
     },
     "execution_count": 17,
     "metadata": {},
     "output_type": "execute_result"
    },
    {
     "data": {
      "image/png": "[encoded data removed]",
      "text/plain": [
       "<Figure size 576x576 with 1 Axes>"
      ]
     },
     "metadata": {
      "needs_background": "light"
     },
     "output_type": "display_data"
    }
   ],
   "source": [
    "fig = plt.figure(figsize=(8,8))\n",
    "ax = fig.gca()\n",
    "ax.set_xlim(xmin, xmax)\n",
    "ax.set_ylim(ymin, ymax)\n",
    "cfset = ax.contourf(xx, yy, f, cmap='coolwarm')\n",
    "ax.imshow(np.rot90(f), cmap='coolwarm', extent=[xmin, xmax, ymin, ymax])\n",
    "cset = ax.contour(xx, yy, f, colors='k')\n",
    "ax.clabel(cset, inline=1, fontsize=10)\n",
    "ax.set_xlabel(r'Log$_{10}$(M$_{i}$/M$_{\\odot}$)', size=15)\n",
    "ax.set_ylabel(r'Log$_{10}$(M$_{f}$/M$_{\\odot}$)', size=15)\n",
    "plt.title('Initial final mass relation for BHs')\n",
    "#ax.scatter(np.log10(bh_ini_m1),np.log10(bh_final_m1),s=0.3,color=\"1\",label=\"m1\")"
   ]
  },
  {
   "cell_type": "code",
   "execution_count": null,
   "id": "8a7b9abb-fe3b-49f6-93ff-4444ab1807c5",
   "metadata": {},
   "outputs": [],
   "source": []
  }
 ],
 "metadata": {
  "kernelspec": {
   "display_name": "cosmic",
   "language": "python",
   "name": "cosmic"
  },
  "language_info": {
   "codemirror_mode": {
    "name": "ipython",
    "version": 3
   },
   "file_extension": ".py",
   "mimetype": "text/x-python",
   "name": "python",
   "nbconvert_exporter": "python",
   "pygments_lexer": "ipython3",
   "version": "3.7.12"
  }
 },
 "nbformat": 4,
 "nbformat_minor": 5
}
