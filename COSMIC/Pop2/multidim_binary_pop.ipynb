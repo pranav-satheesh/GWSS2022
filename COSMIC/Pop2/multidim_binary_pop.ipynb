{
 "cells": [
  {
   "cell_type": "code",
   "execution_count": 1,
   "id": "2cd22147-b2d9-4bb5-a452-14da6347bee4",
   "metadata": {},
   "outputs": [],
   "source": [
    "import numpy as np\n",
    "import matplotlib.pyplot as plt\n",
    "import pandas as pd"
   ]
  },
  {
   "cell_type": "markdown",
   "id": "9e07852e-d978-4cf1-aea1-754a39cd88c6",
   "metadata": {},
   "source": [
    "### Using a multidim sampler"
   ]
  },
  {
   "cell_type": "code",
   "execution_count": 2,
   "id": "26b14570-d6cb-43f2-a8e7-1dd440a7963d",
   "metadata": {},
   "outputs": [],
   "source": [
    "from cosmic.sample.initialbinarytable import InitialBinaryTable\n",
    "from cosmic.sample.sampler import multidim"
   ]
  },
  {
   "cell_type": "code",
   "execution_count": 19,
   "id": "86a8bac3-185a-41ad-83a4-d59d78a7690a",
   "metadata": {},
   "outputs": [],
   "source": [
    "InitialBinaries, mass_singles, mass_binaries, n_singles, n_binaries = InitialBinaryTable.sampler('multidim', final_kstar1=[14], final_kstar2=[14], rand_seed=3, nproc=1, SF_start=13700.0, SF_duration=0.0, met=0.02, size=10000)"
   ]
  },
  {
   "cell_type": "code",
   "execution_count": 20,
   "id": "07a2ea04-8f9d-4d29-830e-2c4ceea5e173",
   "metadata": {},
   "outputs": [],
   "source": [
    "from cosmic.evolve import Evolve"
   ]
  },
  {
   "cell_type": "code",
   "execution_count": 21,
   "id": "abb86042-e4b6-49ce-9d66-1ca976ffcb05",
   "metadata": {},
   "outputs": [],
   "source": [
    "BSEDict = {'xi': 1.0, 'bhflag': 1, 'neta': 0.5, 'windflag': 3, 'wdflag': 1, 'alpha1': 1.0, 'pts1': 0.001, 'pts3': 0.02, 'pts2': 0.01, 'epsnov': 0.001, 'hewind': 0.5, 'ck': 1000, 'bwind': 0.0, 'lambdaf': 0.0, 'mxns': 3.0, 'beta': -1.0, 'tflag': 1, 'acc2': 1.5, 'grflag' : 1, 'remnantflag': 4, 'ceflag': 0, 'eddfac': 1.0, 'ifflag': 0, 'bconst': 3000, 'sigma': 265.0, 'gamma': -2.0, 'pisn': 45.0, 'natal_kick_array' : [[-100.0,-100.0,-100.0,-100.0,0.0], [-100.0,-100.0,-100.0,-100.0,0.0]], 'bhsigmafrac' : 1.0, 'polar_kick_angle' : 90, 'qcrit_array' : [0.0,0.0,0.0,0.0,0.0,0.0,0.0,0.0,0.0,0.0,0.0,0.0,0.0,0.0,0.0,0.0], 'cekickflag' : 2, 'cehestarflag' : 0, 'cemergeflag' : 0, 'ecsn' : 2.25, 'ecsn_mlow' : 1.6, 'aic' : 1, 'ussn' : 0, 'sigmadiv' :-20.0, 'qcflag' : 1, 'eddlimflag' : 0, 'fprimc_array' : [2.0/21.0,2.0/21.0,2.0/21.0,2.0/21.0,2.0/21.0,2.0/21.0,2.0/21.0,2.0/21.0,2.0/21.0,2.0/21.0,2.0/21.0,2.0/21.0,2.0/21.0,2.0/21.0,2.0/21.0,2.0/21.0], 'bhspinflag' : 0, 'bhspinmag' : 0.0, 'rejuv_fac' : 1.0, 'rejuvflag' : 0, 'htpmb' : 1, 'ST_cr' : 1, 'ST_tide' : 1, 'bdecayfac' : 1, 'rembar_massloss' : 0.5, 'kickflag' : 0, 'zsun' : 0.014, 'bhms_coll_flag' : 0, 'don_lim' : -1, 'acc_lim' : -1}"
   ]
  },
  {
   "cell_type": "code",
   "execution_count": 22,
   "id": "d77e6849-414c-46a4-8661-c7f626afa4e1",
   "metadata": {},
   "outputs": [
    {
     "name": "stderr",
     "output_type": "stream",
     "text": [
      "/home/pranav/miniconda3/envs/cosmic/lib/python3.7/site-packages/cosmic/utils.py:1445: UserWarning: At least one of your initial binaries is starting in Roche Lobe Overflow:\n",
      "      kstar_1  kstar_2      mass_1     mass_2      porb       ecc  \\\n",
      "87        1.0      1.0   75.410059  45.863243  1.566237  0.002378   \n",
      "297       1.0      1.0  108.013163  13.544737  1.919807  0.029151   \n",
      "395       1.0      1.0   78.700652  49.692106  1.733320  0.006642   \n",
      "435       1.0      1.0   78.297190  40.168769  1.796207  0.025689   \n",
      "442       1.0      1.0  100.095300  22.859142  1.836653  0.003505   \n",
      "...       ...      ...         ...        ...       ...       ...   \n",
      "9311      1.0      1.0   86.512253  19.976270  1.562220  0.004921   \n",
      "9482      1.0      1.0   56.063016  51.870955  1.723838  0.016232   \n",
      "9640      1.0      1.0  102.655519  33.997542  2.133164  0.022373   \n",
      "9835      1.0      1.0   64.994538  60.546305  1.572078  0.020988   \n",
      "9886      1.0      1.0   80.206960  60.027292  1.774274  0.004576   \n",
      "\n",
      "      metallicity   tphysf     mass0_1    mass0_2  ...  tacc_1  tacc_2  \\\n",
      "87           0.02  13700.0   75.410059  45.863243  ...     0.0     0.0   \n",
      "297          0.02  13700.0  108.013163  13.544737  ...     0.0     0.0   \n",
      "395          0.02  13700.0   78.700652  49.692106  ...     0.0     0.0   \n",
      "435          0.02  13700.0   78.297190  40.168769  ...     0.0     0.0   \n",
      "442          0.02  13700.0  100.095300  22.859142  ...     0.0     0.0   \n",
      "...           ...      ...         ...        ...  ...     ...     ...   \n",
      "9311         0.02  13700.0   86.512253  19.976270  ...     0.0     0.0   \n",
      "9482         0.02  13700.0   56.063016  51.870955  ...     0.0     0.0   \n",
      "9640         0.02  13700.0  102.655519  33.997542  ...     0.0     0.0   \n",
      "9835         0.02  13700.0   64.994538  60.546305  ...     0.0     0.0   \n",
      "9886         0.02  13700.0   80.206960  60.027292  ...     0.0     0.0   \n",
      "\n",
      "      epoch_1  epoch_2  tms_1  tms_2  bhspin_1  bhspin_2  tphys   binfrac  \n",
      "87        0.0      0.0    0.0    0.0       0.0       0.0    0.0  0.995526  \n",
      "297       0.0      0.0    0.0    0.0       0.0       0.0    0.0  0.995526  \n",
      "395       0.0      0.0    0.0    0.0       0.0       0.0    0.0  0.995526  \n",
      "435       0.0      0.0    0.0    0.0       0.0       0.0    0.0  0.995526  \n",
      "442       0.0      0.0    0.0    0.0       0.0       0.0    0.0  0.995526  \n",
      "...       ...      ...    ...    ...       ...       ...    ...       ...  \n",
      "9311      0.0      0.0    0.0    0.0       0.0       0.0    0.0  0.995526  \n",
      "9482      0.0      0.0    0.0    0.0       0.0       0.0    0.0  0.995526  \n",
      "9640      0.0      0.0    0.0    0.0       0.0       0.0    0.0  0.995526  \n",
      "9835      0.0      0.0    0.0    0.0       0.0       0.0    0.0  0.995526  \n",
      "9886      0.0      0.0    0.0    0.0       0.0       0.0    0.0  0.995526  \n",
      "\n",
      "[119 rows x 38 columns]\n",
      "  initial_binary_table[mask]\n"
     ]
    }
   ],
   "source": [
    "bpp, bcm, initC, kick_info  = Evolve.evolve(initialbinarytable=InitialBinaries, BSEDict=BSEDict)"
   ]
  },
  {
   "cell_type": "code",
   "execution_count": 12,
   "id": "d9d3bdb9-635a-47c2-8ae2-df8a16f26755",
   "metadata": {},
   "outputs": [],
   "source": [
    "bh_index_1 = np.array(bcm[bcm.kstar_1==14.0].index)\n",
    "bh_final_m1 = np.array(bcm[bcm.kstar_1==14.0].mass_1)\n",
    "\n",
    "bh_index_2 = np.array(bcm[bcm.kstar_2==14.0].index)\n",
    "bh_final_m2 = np.array(bcm[bcm.kstar_2==14.0].mass_2)"
   ]
  },
  {
   "cell_type": "code",
   "execution_count": 13,
   "id": "2eab48df-5294-488e-bab8-7670ca7d2e3a",
   "metadata": {},
   "outputs": [],
   "source": [
    "bh_ini_m1 = []\n",
    "bh_ini_m2 = []"
   ]
  },
  {
   "cell_type": "code",
   "execution_count": 14,
   "id": "14f2fd81-bddf-4c66-af9a-ac13b7e722e4",
   "metadata": {},
   "outputs": [],
   "source": [
    "for indx in bh_index_1:\n",
    "    bh_ini_m1.append(np.array(bcm[bcm.index==indx].mass_1)[0])\n",
    "    \n",
    "for indx in bh_index_2:\n",
    "    bh_ini_m2.append(np.array(bcm[bcm.index==indx].mass_2)[0])"
   ]
  },
  {
   "cell_type": "code",
   "execution_count": 18,
   "id": "11be7d51-2bf4-4db0-a1c9-57532ae73e35",
   "metadata": {},
   "outputs": [
    {
     "data": {
      "image/png": "[encoded data removed]",
      "text/plain": [
       "<Figure size 432x288 with 1 Axes>"
      ]
     },
     "metadata": {
      "needs_background": "light"
     },
     "output_type": "display_data"
    }
   ],
   "source": [
    "plt.scatter(np.log10(bh_ini_m1),np.log10(bh_final_m1),s=0.4,label=\"m2\")\n",
    "plt.scatter(np.log10(bh_ini_m2),np.log10(bh_final_m2),s=0.4,label=\"m2\")\n",
    "plt.xlabel(r'Log$_{10}$(M$_{i}$/M$_{\\odot}$)', size=15)\n",
    "plt.ylabel(r'Log$_{10}$(M$_{f}$/M$_{\\odot}$)', size=15)\n",
    "plt.legend()\n",
    "plt.title(\"Mass relation for BHs in the population\")\n",
    "#plt.xlim(1.5,1.8)\n",
    "#plt.ylim(0.45,0.7)\n",
    "plt.show()"
   ]
  },
  {
   "cell_type": "code",
   "execution_count": null,
   "id": "e3d93e23-a197-4789-9df8-542240af340a",
   "metadata": {},
   "outputs": [],
   "source": []
  }
 ],
 "metadata": {
  "kernelspec": {
   "display_name": "cosmic",
   "language": "python",
   "name": "cosmic"
  },
  "language_info": {
   "codemirror_mode": {
    "name": "ipython",
    "version": 3
   },
   "file_extension": ".py",
   "mimetype": "text/x-python",
   "name": "python",
   "nbconvert_exporter": "python",
   "pygments_lexer": "ipython3",
   "version": "3.7.12"
  }
 },
 "nbformat": 4,
 "nbformat_minor": 5
}
