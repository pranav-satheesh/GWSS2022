{
 "cells": [
  {
   "cell_type": "code",
   "execution_count": 259,
   "id": "82d8be6e-7a45-42a7-b120-9f2041c52d0e",
   "metadata": {},
   "outputs": [],
   "source": [
    "import numpy as np\n",
    "import matplotlib.pyplot as plt\n",
    "import pandas as pd"
   ]
  },
  {
   "cell_type": "markdown",
   "id": "4b7f3633-ef02-4c88-97a9-7d8371f17894",
   "metadata": {},
   "source": [
    "## Independent Sampler"
   ]
  },
  {
   "cell_type": "code",
   "execution_count": 260,
   "id": "96da48e6-2556-465d-bd0f-5287d45b369c",
   "metadata": {},
   "outputs": [],
   "source": [
    "from cosmic.sample.initialbinarytable import InitialBinaryTable\n",
    "from cosmic.sample.sampler import independent"
   ]
  },
  {
   "cell_type": "code",
   "execution_count": 261,
   "id": "86eade44-68cb-4a88-ba2d-0a48560d17b8",
   "metadata": {},
   "outputs": [],
   "source": [
    "InitialBinaries, mass_singles, mass_binaries, n_singles, n_binaries = InitialBinaryTable.sampler('independent', final_kstar1=[14], final_kstar2=[14], binfrac_model=1.0, primary_model='kroupa93', ecc_model='sana12', porb_model='sana12', qmin=-1, SF_start=13700.0, SF_duration=0.0, met=0.02, size=10000)"
   ]
  },
  {
   "cell_type": "code",
   "execution_count": 262,
   "id": "8cb998c6-5828-46c1-ae53-4575a05a0344",
   "metadata": {},
   "outputs": [
    {
     "data": {
      "text/plain": [
       "Text(0, 0.5, '$m_2$')"
      ]
     },
     "execution_count": 262,
     "metadata": {},
     "output_type": "execute_result"
    },
    {
     "data": {
      "image/png": "[encoded data removed]",
      "text/plain": [
       "<Figure size 432x288 with 1 Axes>"
      ]
     },
     "metadata": {
      "needs_background": "light"
     },
     "output_type": "display_data"
    }
   ],
   "source": [
    "plt.plot(InitialBinaries.mass_1,InitialBinaries.mass_2,\"c+\")\n",
    "plt.xlabel(r\"$m_1$\",size=15)\n",
    "plt.ylabel(r\"$m_2$\",size=15)"
   ]
  },
  {
   "cell_type": "code",
   "execution_count": 263,
   "id": "842a51be-596d-4fd1-9834-a4e241beef03",
   "metadata": {},
   "outputs": [
    {
     "data": {
      "image/png": "[encoded data removed]",
      "text/plain": [
       "<Figure size 432x288 with 1 Axes>"
      ]
     },
     "metadata": {
      "needs_background": "light"
     },
     "output_type": "display_data"
    }
   ],
   "source": [
    "plt.hist(np.log10(InitialBinaries.mass_1), bins = 20, histtype='step', density=True,\n",
    "         lw=3, color=\"c\", label='$m_1$')\n",
    "plt.hist(np.log10(InitialBinaries.mass_2), bins = 20, histtype='step', density=True,\n",
    "         lw=3, color=\"r\", label='$m_2$')\n",
    "plt.xlabel(r'Log$_{10}$(M/M$_{\\odot}$)', size=18)\n",
    "plt.ylabel('normalized counts', size=18)\n",
    "plt.legend()\n",
    "plt.legend(prop={'size' : 18})\n",
    "plt.show()"
   ]
  },
  {
   "cell_type": "markdown",
   "id": "612da68c-5f4d-4883-b0d5-f01f9b6fba00",
   "metadata": {},
   "source": [
    "## Evolving the population"
   ]
  },
  {
   "cell_type": "code",
   "execution_count": 264,
   "id": "0f874e60-fe8a-4889-b4dc-6978f1f28fcd",
   "metadata": {},
   "outputs": [],
   "source": [
    "from cosmic.evolve import Evolve"
   ]
  },
  {
   "cell_type": "code",
   "execution_count": 265,
   "id": "9b02915a-d53a-44fd-a14e-eb5bb33e8e82",
   "metadata": {},
   "outputs": [],
   "source": [
    "BSEDict = {'xi': 1.0, 'bhflag': 1, 'neta': 0.5, 'windflag': 3, 'wdflag': 1, 'alpha1': 1.0, 'pts1': 0.001, 'pts3': 0.02, 'pts2': 0.01, 'epsnov': 0.001, 'hewind': 0.5, 'ck': 1000, 'bwind': 0.0, 'lambdaf': 0.0, 'mxns': 3.0, 'beta': -1.0, 'tflag': 1, 'acc2': 1.5, 'grflag' : 1, 'remnantflag': 4, 'ceflag': 0, 'eddfac': 1.0, 'ifflag': 0, 'bconst': 3000, 'sigma': 265.0, 'gamma': -2.0, 'pisn': 45.0, 'natal_kick_array' : [[-100.0,-100.0,-100.0,-100.0,0.0], [-100.0,-100.0,-100.0,-100.0,0.0]], 'bhsigmafrac' : 1.0, 'polar_kick_angle' : 90, 'qcrit_array' : [0.0,0.0,0.0,0.0,0.0,0.0,0.0,0.0,0.0,0.0,0.0,0.0,0.0,0.0,0.0,0.0], 'cekickflag' : 2, 'cehestarflag' : 0, 'cemergeflag' : 0, 'ecsn' : 2.25, 'ecsn_mlow' : 1.6, 'aic' : 1, 'ussn' : 0, 'sigmadiv' :-20.0, 'qcflag' : 1, 'eddlimflag' : 0, 'fprimc_array' : [2.0/21.0,2.0/21.0,2.0/21.0,2.0/21.0,2.0/21.0,2.0/21.0,2.0/21.0,2.0/21.0,2.0/21.0,2.0/21.0,2.0/21.0,2.0/21.0,2.0/21.0,2.0/21.0,2.0/21.0,2.0/21.0], 'bhspinflag' : 0, 'bhspinmag' : 0.0, 'rejuv_fac' : 1.0, 'rejuvflag' : 0, 'htpmb' : 1, 'ST_cr' : 1, 'ST_tide' : 1, 'bdecayfac' : 1, 'rembar_massloss' : 0.5, 'kickflag' : 0, 'zsun' : 0.014, 'bhms_coll_flag' : 0, 'don_lim' : -1, 'acc_lim' : -1}"
   ]
  },
  {
   "cell_type": "code",
   "execution_count": 266,
   "id": "d5f2823c-82a5-4348-a1d7-3303a42177ad",
   "metadata": {},
   "outputs": [
    {
     "name": "stderr",
     "output_type": "stream",
     "text": [
      "/home/pranav/miniconda3/envs/cosmic/lib/python3.7/site-packages/cosmic/utils.py:1445: UserWarning: At least one of your initial binaries is starting in Roche Lobe Overflow:\n",
      "      kstar_1  kstar_2      mass_1     mass_2      porb       ecc  \\\n",
      "125       1.0      1.0  106.878555  94.105888  1.929077  0.027557   \n",
      "186       1.0      1.0   56.893494  52.228433  1.657748  0.481630   \n",
      "301       1.0      1.0   59.198884  27.505459  1.528034  0.230572   \n",
      "302       1.0      1.0   36.349252  27.689575  1.437899  0.027532   \n",
      "568       1.0      1.0  101.735546  40.705746  1.470899  0.046559   \n",
      "...       ...      ...         ...        ...       ...       ...   \n",
      "9466      1.0      1.0   67.156216  54.342154  1.546677  0.136587   \n",
      "9600      1.0      1.0   73.851153  46.735298  1.561587  0.397015   \n",
      "9609      1.0      1.0   89.041227  48.782927  1.853648  0.616421   \n",
      "9628      1.0      1.0  140.035403  22.780894  2.286731  0.002549   \n",
      "9756      1.0      1.0   44.872821  26.413361  1.442019  0.069511   \n",
      "\n",
      "      metallicity   tphysf     mass0_1    mass0_2  ...  tacc_1  tacc_2  \\\n",
      "125          0.02  13700.0  106.878555  94.105888  ...     0.0     0.0   \n",
      "186          0.02  13700.0   56.893494  52.228433  ...     0.0     0.0   \n",
      "301          0.02  13700.0   59.198884  27.505459  ...     0.0     0.0   \n",
      "302          0.02  13700.0   36.349252  27.689575  ...     0.0     0.0   \n",
      "568          0.02  13700.0  101.735546  40.705746  ...     0.0     0.0   \n",
      "...           ...      ...         ...        ...  ...     ...     ...   \n",
      "9466         0.02  13700.0   67.156216  54.342154  ...     0.0     0.0   \n",
      "9600         0.02  13700.0   73.851153  46.735298  ...     0.0     0.0   \n",
      "9609         0.02  13700.0   89.041227  48.782927  ...     0.0     0.0   \n",
      "9628         0.02  13700.0  140.035403  22.780894  ...     0.0     0.0   \n",
      "9756         0.02  13700.0   44.872821  26.413361  ...     0.0     0.0   \n",
      "\n",
      "      epoch_1  epoch_2  tms_1  tms_2  bhspin_1  bhspin_2  tphys  binfrac  \n",
      "125       0.0      0.0    0.0    0.0       0.0       0.0    0.0      1.0  \n",
      "186       0.0      0.0    0.0    0.0       0.0       0.0    0.0      1.0  \n",
      "301       0.0      0.0    0.0    0.0       0.0       0.0    0.0      1.0  \n",
      "302       0.0      0.0    0.0    0.0       0.0       0.0    0.0      1.0  \n",
      "568       0.0      0.0    0.0    0.0       0.0       0.0    0.0      1.0  \n",
      "...       ...      ...    ...    ...       ...       ...    ...      ...  \n",
      "9466      0.0      0.0    0.0    0.0       0.0       0.0    0.0      1.0  \n",
      "9600      0.0      0.0    0.0    0.0       0.0       0.0    0.0      1.0  \n",
      "9609      0.0      0.0    0.0    0.0       0.0       0.0    0.0      1.0  \n",
      "9628      0.0      0.0    0.0    0.0       0.0       0.0    0.0      1.0  \n",
      "9756      0.0      0.0    0.0    0.0       0.0       0.0    0.0      1.0  \n",
      "\n",
      "[96 rows x 38 columns]\n",
      "  initial_binary_table[mask]\n"
     ]
    }
   ],
   "source": [
    "bpp, bcm, initC, kick_info  = Evolve.evolve(initialbinarytable=InitialBinaries, BSEDict=BSEDict)"
   ]
  },
  {
   "cell_type": "code",
   "execution_count": 267,
   "id": "21ef7394-39bb-44f5-9a87-6f28fc0192d3",
   "metadata": {},
   "outputs": [
    {
     "data": {
      "text/html": [
       "<div>\n",
       "<style scoped>\n",
       "    .dataframe tbody tr th:only-of-type {\n",
       "        vertical-align: middle;\n",
       "    }\n",
       "\n",
       "    .dataframe tbody tr th {\n",
       "        vertical-align: top;\n",
       "    }\n",
       "\n",
       "    .dataframe thead th {\n",
       "        text-align: right;\n",
       "    }\n",
       "</style>\n",
       "<table border=\"1\" class=\"dataframe\">\n",
       "  <thead>\n",
       "    <tr style=\"text-align: right;\">\n",
       "      <th></th>\n",
       "      <th>tphys</th>\n",
       "      <th>kstar_1</th>\n",
       "      <th>mass0_1</th>\n",
       "      <th>mass_1</th>\n",
       "      <th>lum_1</th>\n",
       "      <th>rad_1</th>\n",
       "      <th>teff_1</th>\n",
       "      <th>massc_1</th>\n",
       "      <th>radc_1</th>\n",
       "      <th>menv_1</th>\n",
       "      <th>...</th>\n",
       "      <th>porb</th>\n",
       "      <th>sep</th>\n",
       "      <th>ecc</th>\n",
       "      <th>B_1</th>\n",
       "      <th>B_2</th>\n",
       "      <th>SN_1</th>\n",
       "      <th>SN_2</th>\n",
       "      <th>bin_state</th>\n",
       "      <th>merger_type</th>\n",
       "      <th>bin_num</th>\n",
       "    </tr>\n",
       "  </thead>\n",
       "  <tbody>\n",
       "    <tr>\n",
       "      <th>0</th>\n",
       "      <td>0.0</td>\n",
       "      <td>1.0</td>\n",
       "      <td>10.724486</td>\n",
       "      <td>10.724486</td>\n",
       "      <td>7.104561e+03</td>\n",
       "      <td>4.341959</td>\n",
       "      <td>25545.304691</td>\n",
       "      <td>0.000000</td>\n",
       "      <td>0.000000</td>\n",
       "      <td>1.000000e-10</td>\n",
       "      <td>...</td>\n",
       "      <td>2.258163</td>\n",
       "      <td>19.381849</td>\n",
       "      <td>0.778276</td>\n",
       "      <td>0.000000e+00</td>\n",
       "      <td>0.000000e+00</td>\n",
       "      <td>0.0</td>\n",
       "      <td>0.0</td>\n",
       "      <td>0</td>\n",
       "      <td>-001</td>\n",
       "      <td>0</td>\n",
       "    </tr>\n",
       "    <tr>\n",
       "      <th>0</th>\n",
       "      <td>13700.0</td>\n",
       "      <td>13.0</td>\n",
       "      <td>18.093040</td>\n",
       "      <td>2.228425</td>\n",
       "      <td>1.825447e-10</td>\n",
       "      <td>0.000014</td>\n",
       "      <td>5695.710252</td>\n",
       "      <td>2.228425</td>\n",
       "      <td>0.000014</td>\n",
       "      <td>1.000000e-10</td>\n",
       "      <td>...</td>\n",
       "      <td>0.000000</td>\n",
       "      <td>0.000000</td>\n",
       "      <td>-1.000000</td>\n",
       "      <td>3.083563e+11</td>\n",
       "      <td>0.000000e+00</td>\n",
       "      <td>1.0</td>\n",
       "      <td>0.0</td>\n",
       "      <td>1</td>\n",
       "      <td>0101</td>\n",
       "      <td>0</td>\n",
       "    </tr>\n",
       "    <tr>\n",
       "      <th>1</th>\n",
       "      <td>0.0</td>\n",
       "      <td>1.0</td>\n",
       "      <td>136.950339</td>\n",
       "      <td>136.950339</td>\n",
       "      <td>2.177811e+06</td>\n",
       "      <td>23.348325</td>\n",
       "      <td>46094.254715</td>\n",
       "      <td>0.000000</td>\n",
       "      <td>0.000000</td>\n",
       "      <td>1.000000e-10</td>\n",
       "      <td>...</td>\n",
       "      <td>5.788018</td>\n",
       "      <td>79.815280</td>\n",
       "      <td>0.348464</td>\n",
       "      <td>0.000000e+00</td>\n",
       "      <td>0.000000e+00</td>\n",
       "      <td>0.0</td>\n",
       "      <td>0.0</td>\n",
       "      <td>0</td>\n",
       "      <td>-001</td>\n",
       "      <td>1</td>\n",
       "    </tr>\n",
       "    <tr>\n",
       "      <th>1</th>\n",
       "      <td>13700.0</td>\n",
       "      <td>14.0</td>\n",
       "      <td>13.288968</td>\n",
       "      <td>10.831862</td>\n",
       "      <td>1.000000e-10</td>\n",
       "      <td>0.000046</td>\n",
       "      <td>2705.422702</td>\n",
       "      <td>10.831862</td>\n",
       "      <td>0.000046</td>\n",
       "      <td>1.000000e-10</td>\n",
       "      <td>...</td>\n",
       "      <td>0.000000</td>\n",
       "      <td>0.000000</td>\n",
       "      <td>-1.000000</td>\n",
       "      <td>0.000000e+00</td>\n",
       "      <td>0.000000e+00</td>\n",
       "      <td>1.0</td>\n",
       "      <td>0.0</td>\n",
       "      <td>1</td>\n",
       "      <td>0101</td>\n",
       "      <td>1</td>\n",
       "    </tr>\n",
       "    <tr>\n",
       "      <th>2</th>\n",
       "      <td>0.0</td>\n",
       "      <td>1.0</td>\n",
       "      <td>51.257129</td>\n",
       "      <td>51.257129</td>\n",
       "      <td>3.892006e+05</td>\n",
       "      <td>11.713395</td>\n",
       "      <td>42312.782704</td>\n",
       "      <td>0.000000</td>\n",
       "      <td>0.000000</td>\n",
       "      <td>1.000000e-10</td>\n",
       "      <td>...</td>\n",
       "      <td>726.182938</td>\n",
       "      <td>1345.339034</td>\n",
       "      <td>0.896416</td>\n",
       "      <td>0.000000e+00</td>\n",
       "      <td>0.000000e+00</td>\n",
       "      <td>0.0</td>\n",
       "      <td>0.0</td>\n",
       "      <td>0</td>\n",
       "      <td>-001</td>\n",
       "      <td>2</td>\n",
       "    </tr>\n",
       "    <tr>\n",
       "      <th>...</th>\n",
       "      <td>...</td>\n",
       "      <td>...</td>\n",
       "      <td>...</td>\n",
       "      <td>...</td>\n",
       "      <td>...</td>\n",
       "      <td>...</td>\n",
       "      <td>...</td>\n",
       "      <td>...</td>\n",
       "      <td>...</td>\n",
       "      <td>...</td>\n",
       "      <td>...</td>\n",
       "      <td>...</td>\n",
       "      <td>...</td>\n",
       "      <td>...</td>\n",
       "      <td>...</td>\n",
       "      <td>...</td>\n",
       "      <td>...</td>\n",
       "      <td>...</td>\n",
       "      <td>...</td>\n",
       "      <td>...</td>\n",
       "      <td>...</td>\n",
       "    </tr>\n",
       "    <tr>\n",
       "      <th>10032</th>\n",
       "      <td>13700.0</td>\n",
       "      <td>13.0</td>\n",
       "      <td>7.377626</td>\n",
       "      <td>2.753538</td>\n",
       "      <td>2.102822e-10</td>\n",
       "      <td>0.000014</td>\n",
       "      <td>5900.736309</td>\n",
       "      <td>2.753538</td>\n",
       "      <td>0.000014</td>\n",
       "      <td>1.000000e-10</td>\n",
       "      <td>...</td>\n",
       "      <td>0.000000</td>\n",
       "      <td>0.000000</td>\n",
       "      <td>-1.000000</td>\n",
       "      <td>5.023084e+09</td>\n",
       "      <td>0.000000e+00</td>\n",
       "      <td>1.0</td>\n",
       "      <td>0.0</td>\n",
       "      <td>1</td>\n",
       "      <td>0101</td>\n",
       "      <td>10032</td>\n",
       "    </tr>\n",
       "    <tr>\n",
       "      <th>10033</th>\n",
       "      <td>0.0</td>\n",
       "      <td>1.0</td>\n",
       "      <td>13.990199</td>\n",
       "      <td>13.990199</td>\n",
       "      <td>1.617222e+04</td>\n",
       "      <td>5.098684</td>\n",
       "      <td>28955.629078</td>\n",
       "      <td>0.000000</td>\n",
       "      <td>0.000000</td>\n",
       "      <td>1.000000e-10</td>\n",
       "      <td>...</td>\n",
       "      <td>15503.719428</td>\n",
       "      <td>7361.032204</td>\n",
       "      <td>0.299738</td>\n",
       "      <td>0.000000e+00</td>\n",
       "      <td>0.000000e+00</td>\n",
       "      <td>0.0</td>\n",
       "      <td>0.0</td>\n",
       "      <td>0</td>\n",
       "      <td>-001</td>\n",
       "      <td>10033</td>\n",
       "    </tr>\n",
       "    <tr>\n",
       "      <th>10033</th>\n",
       "      <td>13700.0</td>\n",
       "      <td>13.0</td>\n",
       "      <td>13.441254</td>\n",
       "      <td>1.459625</td>\n",
       "      <td>1.375890e-10</td>\n",
       "      <td>0.000014</td>\n",
       "      <td>5307.029642</td>\n",
       "      <td>1.459625</td>\n",
       "      <td>0.000014</td>\n",
       "      <td>1.000000e-10</td>\n",
       "      <td>...</td>\n",
       "      <td>-1.000000</td>\n",
       "      <td>-1.000000</td>\n",
       "      <td>-1.000000</td>\n",
       "      <td>3.291210e+10</td>\n",
       "      <td>1.523713e+10</td>\n",
       "      <td>1.0</td>\n",
       "      <td>1.0</td>\n",
       "      <td>2</td>\n",
       "      <td>-001</td>\n",
       "      <td>10033</td>\n",
       "    </tr>\n",
       "    <tr>\n",
       "      <th>10034</th>\n",
       "      <td>0.0</td>\n",
       "      <td>1.0</td>\n",
       "      <td>14.529671</td>\n",
       "      <td>14.529671</td>\n",
       "      <td>1.810123e+04</td>\n",
       "      <td>5.217865</td>\n",
       "      <td>29440.841665</td>\n",
       "      <td>0.000000</td>\n",
       "      <td>0.000000</td>\n",
       "      <td>1.000000e-10</td>\n",
       "      <td>...</td>\n",
       "      <td>1.538332</td>\n",
       "      <td>16.253421</td>\n",
       "      <td>0.394834</td>\n",
       "      <td>0.000000e+00</td>\n",
       "      <td>0.000000e+00</td>\n",
       "      <td>0.0</td>\n",
       "      <td>0.0</td>\n",
       "      <td>0</td>\n",
       "      <td>-001</td>\n",
       "      <td>10034</td>\n",
       "    </tr>\n",
       "    <tr>\n",
       "      <th>10034</th>\n",
       "      <td>13700.0</td>\n",
       "      <td>13.0</td>\n",
       "      <td>7.060742</td>\n",
       "      <td>2.539708</td>\n",
       "      <td>1.991951e-10</td>\n",
       "      <td>0.000014</td>\n",
       "      <td>5821.370918</td>\n",
       "      <td>2.539708</td>\n",
       "      <td>0.000014</td>\n",
       "      <td>1.000000e-10</td>\n",
       "      <td>...</td>\n",
       "      <td>0.000000</td>\n",
       "      <td>0.000000</td>\n",
       "      <td>-1.000000</td>\n",
       "      <td>4.315177e+11</td>\n",
       "      <td>0.000000e+00</td>\n",
       "      <td>1.0</td>\n",
       "      <td>0.0</td>\n",
       "      <td>1</td>\n",
       "      <td>0101</td>\n",
       "      <td>10034</td>\n",
       "    </tr>\n",
       "  </tbody>\n",
       "</table>\n",
       "<p>20070 rows × 39 columns</p>\n",
       "</div>"
      ],
      "text/plain": [
       "         tphys  kstar_1     mass0_1      mass_1         lum_1      rad_1  \\\n",
       "0          0.0      1.0   10.724486   10.724486  7.104561e+03   4.341959   \n",
       "0      13700.0     13.0   18.093040    2.228425  1.825447e-10   0.000014   \n",
       "1          0.0      1.0  136.950339  136.950339  2.177811e+06  23.348325   \n",
       "1      13700.0     14.0   13.288968   10.831862  1.000000e-10   0.000046   \n",
       "2          0.0      1.0   51.257129   51.257129  3.892006e+05  11.713395   \n",
       "...        ...      ...         ...         ...           ...        ...   \n",
       "10032  13700.0     13.0    7.377626    2.753538  2.102822e-10   0.000014   \n",
       "10033      0.0      1.0   13.990199   13.990199  1.617222e+04   5.098684   \n",
       "10033  13700.0     13.0   13.441254    1.459625  1.375890e-10   0.000014   \n",
       "10034      0.0      1.0   14.529671   14.529671  1.810123e+04   5.217865   \n",
       "10034  13700.0     13.0    7.060742    2.539708  1.991951e-10   0.000014   \n",
       "\n",
       "             teff_1    massc_1    radc_1        menv_1  ...          porb  \\\n",
       "0      25545.304691   0.000000  0.000000  1.000000e-10  ...      2.258163   \n",
       "0       5695.710252   2.228425  0.000014  1.000000e-10  ...      0.000000   \n",
       "1      46094.254715   0.000000  0.000000  1.000000e-10  ...      5.788018   \n",
       "1       2705.422702  10.831862  0.000046  1.000000e-10  ...      0.000000   \n",
       "2      42312.782704   0.000000  0.000000  1.000000e-10  ...    726.182938   \n",
       "...             ...        ...       ...           ...  ...           ...   \n",
       "10032   5900.736309   2.753538  0.000014  1.000000e-10  ...      0.000000   \n",
       "10033  28955.629078   0.000000  0.000000  1.000000e-10  ...  15503.719428   \n",
       "10033   5307.029642   1.459625  0.000014  1.000000e-10  ...     -1.000000   \n",
       "10034  29440.841665   0.000000  0.000000  1.000000e-10  ...      1.538332   \n",
       "10034   5821.370918   2.539708  0.000014  1.000000e-10  ...      0.000000   \n",
       "\n",
       "               sep       ecc           B_1           B_2  SN_1  SN_2  \\\n",
       "0        19.381849  0.778276  0.000000e+00  0.000000e+00   0.0   0.0   \n",
       "0         0.000000 -1.000000  3.083563e+11  0.000000e+00   1.0   0.0   \n",
       "1        79.815280  0.348464  0.000000e+00  0.000000e+00   0.0   0.0   \n",
       "1         0.000000 -1.000000  0.000000e+00  0.000000e+00   1.0   0.0   \n",
       "2      1345.339034  0.896416  0.000000e+00  0.000000e+00   0.0   0.0   \n",
       "...            ...       ...           ...           ...   ...   ...   \n",
       "10032     0.000000 -1.000000  5.023084e+09  0.000000e+00   1.0   0.0   \n",
       "10033  7361.032204  0.299738  0.000000e+00  0.000000e+00   0.0   0.0   \n",
       "10033    -1.000000 -1.000000  3.291210e+10  1.523713e+10   1.0   1.0   \n",
       "10034    16.253421  0.394834  0.000000e+00  0.000000e+00   0.0   0.0   \n",
       "10034     0.000000 -1.000000  4.315177e+11  0.000000e+00   1.0   0.0   \n",
       "\n",
       "       bin_state  merger_type  bin_num  \n",
       "0              0         -001        0  \n",
       "0              1         0101        0  \n",
       "1              0         -001        1  \n",
       "1              1         0101        1  \n",
       "2              0         -001        2  \n",
       "...          ...          ...      ...  \n",
       "10032          1         0101    10032  \n",
       "10033          0         -001    10033  \n",
       "10033          2         -001    10033  \n",
       "10034          0         -001    10034  \n",
       "10034          1         0101    10034  \n",
       "\n",
       "[20070 rows x 39 columns]"
      ]
     },
     "execution_count": 267,
     "metadata": {},
     "output_type": "execute_result"
    }
   ],
   "source": [
    "bcm"
   ]
  },
  {
   "cell_type": "code",
   "execution_count": 273,
   "id": "705a7f14-36b4-4fd4-91b9-c4974b921adb",
   "metadata": {},
   "outputs": [],
   "source": [
    "bh_index_1 = np.array(bcm[bcm.kstar_1==14.0].index)\n",
    "bh_final_m1 = np.array(bcm[bcm.kstar_1==14.0].mass_1)\n",
    "\n",
    "bh_index_2 = np.array(bcm[bcm.kstar_2==14.0].index)\n",
    "bh_final_m2 = np.array(bcm[bcm.kstar_2==14.0].mass_2)"
   ]
  },
  {
   "cell_type": "code",
   "execution_count": 274,
   "id": "925abe32-8b3c-4e86-a14b-1ea6e077cbfb",
   "metadata": {},
   "outputs": [
    {
     "data": {
      "text/plain": [
       "array([3.05623834, 4.41603969, 3.2520187 , ..., 3.08351287, 6.0335838 ,\n",
       "       3.12074685])"
      ]
     },
     "execution_count": 274,
     "metadata": {},
     "output_type": "execute_result"
    }
   ],
   "source": [
    "bh_final_m2"
   ]
  },
  {
   "cell_type": "code",
   "execution_count": 275,
   "id": "75e61e40-d42e-4675-93a7-4569e7b0fec6",
   "metadata": {},
   "outputs": [],
   "source": [
    "bh_ini_m1 = []\n",
    "bh_ini_m2 = []"
   ]
  },
  {
   "cell_type": "code",
   "execution_count": 276,
   "id": "1458118b-b74d-467f-932a-3c212971779d",
   "metadata": {},
   "outputs": [],
   "source": [
    "for indx in bh_index_1:\n",
    "    bh_ini_m1.append(np.array(bcm[bcm.index==indx].mass_1)[0])\n",
    "    \n",
    "for indx in bh_index_2:\n",
    "    bh_ini_m2.append(np.array(bcm[bcm.index==indx].mass_2)[0])"
   ]
  },
  {
   "cell_type": "code",
   "execution_count": 326,
   "id": "ae6e93f4-6778-4967-a692-70207e7750d0",
   "metadata": {},
   "outputs": [
    {
     "data": {
      "image/png": "[encoded data removed]",
      "text/plain": [
       "<Figure size 432x288 with 1 Axes>"
      ]
     },
     "metadata": {
      "needs_background": "light"
     },
     "output_type": "display_data"
    }
   ],
   "source": [
    "plt.scatter(np.log10(bh_ini_m1),np.log10(bh_final_m1),s=0.9,label=\"m1\")\n",
    "#plt.scatter(np.log10(bh_ini_m2),np.log10(bh_final_m2),s=0.4,label=\"m2\")\n",
    "plt.xlabel(r'Log$_{10}$(M$_{i}$/M$_{\\odot}$)', size=15)\n",
    "plt.ylabel(r'Log$_{10}$(M$_{f}$/M$_{\\odot}$)', size=15)\n",
    "#plt.legend()\n",
    "plt.title(\"Mass relation for BHs in the population\")\n",
    "plt.xlim(1.5,1.6)\n",
    "plt.ylim(0.46,0.6)\n",
    "plt.show()\n",
    "#plt.scatter(np.log10(bh_ini_m2+bh_ini_m1),np.log10(bh_final_m2+bh_ini_m2),s=0.4)"
   ]
  },
  {
   "cell_type": "code",
   "execution_count": 331,
   "id": "a0ef5e76-7bb7-4d4f-9a8f-2d7b32cc0d24",
   "metadata": {},
   "outputs": [],
   "source": [
    "m_bh = pd.DataFrame({'m1_ini': bh_ini_m1, 'm1_final': bh_final_m1,'m2_ini': bh_ini_m1, 'm2_final': bh_final_m1})"
   ]
  },
  {
   "cell_type": "code",
   "execution_count": 332,
   "id": "39efd3b3-cbd7-401d-8e6b-daa0e9abb350",
   "metadata": {},
   "outputs": [],
   "source": [
    "m1_bh_sort1  = m1_bh[np.log10(m1_bh[\"m1_ini\"])>1.5]"
   ]
  },
  {
   "cell_type": "code",
   "execution_count": 333,
   "id": "95b6dffc-0d91-44f6-ac12-05e301c5f80e",
   "metadata": {},
   "outputs": [],
   "source": [
    "m1_bh_sort2 = m1_bh_sort1[np.log10(m1_bh_sort1[\"m1_ini\"])<1.6]"
   ]
  },
  {
   "cell_type": "code",
   "execution_count": 334,
   "id": "671234ac-b1f4-4c33-8d4a-39c92f8b48a9",
   "metadata": {},
   "outputs": [],
   "source": [
    "m1_bh_sort3 = m1_bh_sort2[np.log10(m1_bh_sort2[\"m1_final\"])>0.46]"
   ]
  },
  {
   "cell_type": "code",
   "execution_count": null,
   "id": "40ad114f-5511-438b-90b9-51a434e1bdc3",
   "metadata": {},
   "outputs": [],
   "source": [
    "m1_bh_sort4 = m1_bh_sort2[np.log10(m1_bh_sort3[\"m1_final\"])<0.46]"
   ]
  },
  {
   "cell_type": "code",
   "execution_count": 303,
   "id": "28f39edc-b892-417d-acbd-a3945a961c39",
   "metadata": {},
   "outputs": [
    {
     "data": {
      "text/plain": [
       "<matplotlib.collections.PathCollection at 0x7f6f35998510>"
      ]
     },
     "execution_count": 303,
     "metadata": {},
     "output_type": "execute_result"
    },
    {
     "data": {
      "image/png": "[encoded data removed]",
      "text/plain": [
       "<Figure size 432x288 with 1 Axes>"
      ]
     },
     "metadata": {
      "needs_background": "light"
     },
     "output_type": "display_data"
    }
   ],
   "source": [
    "plt.scatter(np.log10(m1_bh_sort3[\"m1_ini\"]),np.log10(m1_bh_sort3[\"m1_final\"]),s=0.8)"
   ]
  },
  {
   "cell_type": "code",
   "execution_count": 306,
   "id": "7a4d7fde-2d87-4d5a-9ef5-6bb72e575797",
   "metadata": {},
   "outputs": [],
   "source": [
    "m,b = np.polyfit(np.log10(m1_bh_sort3[\"m1_ini\"]),np.log10(m1_bh_sort3[\"m1_final\"]),1)"
   ]
  },
  {
   "cell_type": "code",
   "execution_count": 312,
   "id": "4d889fde-0273-4233-92d9-0dafc8e98793",
   "metadata": {},
   "outputs": [
    {
     "data": {
      "text/plain": [
       "<matplotlib.collections.PathCollection at 0x7f6f580b6090>"
      ]
     },
     "execution_count": 312,
     "metadata": {},
     "output_type": "execute_result"
    },
    {
     "data": {
      "image/png": "[encoded data removed]",
      "text/plain": [
       "<Figure size 432x288 with 1 Axes>"
      ]
     },
     "metadata": {
      "needs_background": "light"
     },
     "output_type": "display_data"
    }
   ],
   "source": [
    "plt.plot(np.log10(m1_bh_sort3[\"m1_ini\"]),m*np.log10(m1_bh_sort3[\"m1_ini\"])+b,\"r\")\n",
    "plt.scatter(np.log10(m1_bh_sort3[\"m1_ini\"]),np.log10(m1_bh_sort3[\"m1_final\"]),s=0.8)"
   ]
  },
  {
   "cell_type": "code",
   "execution_count": null,
   "id": "c03c5abc-ff35-4d9a-a7a3-6f463c9ca56f",
   "metadata": {},
   "outputs": [],
   "source": []
  }
 ],
 "metadata": {
  "kernelspec": {
   "display_name": "cosmic",
   "language": "python",
   "name": "cosmic"
  },
  "language_info": {
   "codemirror_mode": {
    "name": "ipython",
    "version": 3
   },
   "file_extension": ".py",
   "mimetype": "text/x-python",
   "name": "python",
   "nbconvert_exporter": "python",
   "pygments_lexer": "ipython3",
   "version": "3.7.12"
  }
 },
 "nbformat": 4,
 "nbformat_minor": 5
}
