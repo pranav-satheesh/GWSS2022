{
 "cells": [
  {
   "cell_type": "code",
   "execution_count": 1,
   "id": "ed73bf2f-cd7e-4310-9e71-3eb92b97aaee",
   "metadata": {},
   "outputs": [],
   "source": [
    "import numpy as np\n",
    "import matplotlib.pyplot as plt"
   ]
  },
  {
   "cell_type": "code",
   "execution_count": 2,
   "id": "eda0249a-db77-4661-8b74-1f9a62ebaf37",
   "metadata": {},
   "outputs": [],
   "source": [
    "from cosmic.sample.initialbinarytable import InitialBinaryTable"
   ]
  },
  {
   "cell_type": "code",
   "execution_count": 3,
   "id": "2c720ee1-ff76-4ab8-878c-149402261356",
   "metadata": {},
   "outputs": [],
   "source": [
    "from cosmic.sample.sampler import independent"
   ]
  },
  {
   "cell_type": "code",
   "execution_count": 4,
   "id": "83ab47f8-5d27-407c-bfc6-38dfc0588d3e",
   "metadata": {},
   "outputs": [
    {
     "name": "stdout",
     "output_type": "stream",
     "text": [
      "Help on function sample_SFH in module cosmic.sample.sampler.independent:\n",
      "\n",
      "sample_SFH(self, SF_start=13700.0, SF_duration=0.0, met=0.02, size=None)\n",
      "    Sample an evolution time for each binary based on a user-specified\n",
      "    time at the start of star formation and the duration of star formation.\n",
      "    The default is a burst of star formation 13,700 Myr in the past.\n",
      "    \n",
      "    Parameters\n",
      "    ----------\n",
      "    SF_start : float\n",
      "        Time in the past when star formation initiates in Myr\n",
      "    SF_duration : float\n",
      "        Duration of constant star formation beginning from SF_Start in Myr\n",
      "    met : float\n",
      "        metallicity of the population [Z_sun = 0.02]\n",
      "        Default: 0.02\n",
      "    size : int, optional\n",
      "        number of evolution times to sample\n",
      "        NOTE: this is set in cosmic-pop call as Nstep\n",
      "    \n",
      "    Returns\n",
      "    -------\n",
      "    tphys : array\n",
      "        array of evolution times of size=size\n",
      "    metallicity : array\n",
      "        array of metallicities\n",
      "\n"
     ]
    }
   ],
   "source": [
    "help(independent.Sample.sample_SFH)"
   ]
  },
  {
   "cell_type": "code",
   "execution_count": 8,
   "id": "4399c8a5-c870-42a5-b322-53c5c149d026",
   "metadata": {},
   "outputs": [],
   "source": [
    "from cosmic.utils import a_from_p\n",
    "import pandas as pd"
   ]
  },
  {
   "cell_type": "code",
   "execution_count": 9,
   "id": "02eadc16-0985-48e3-8bf4-44b8f43c76d0",
   "metadata": {},
   "outputs": [],
   "source": [
    "colors = {'green' : '#1b9e77', 'purple' : '#d95f02', 'orange' : '#7570b3'}"
   ]
  },
  {
   "cell_type": "code",
   "execution_count": 11,
   "id": "68e3e85b-6e80-4ce2-8da6-1f42d51e40e7",
   "metadata": {},
   "outputs": [],
   "source": [
    "final_kstar = np.linspace(0,14,15)"
   ]
  },
  {
   "cell_type": "code",
   "execution_count": 12,
   "id": "f1faa518-3aeb-47ec-b058-db0b41e08da9",
   "metadata": {},
   "outputs": [],
   "source": [
    "initC_logP, m_sin_logP, m_bin_logP, n_sin_logP, n_bin_logP = InitialBinaryTable.sampler('independent',\n",
    "                                                                                        final_kstar1=final_kstar,\n",
    "                                                                                        final_kstar2=final_kstar,\n",
    "                                                                                        binfrac_model=1.0,\n",
    "                                                                                        primary_model='kroupa01',\n",
    "                                                                                        ecc_model='thermal',\n",
    "                                                                                        porb_model='log_uniform',\n",
    "                                                                                        qmin=-1,\n",
    "                                                                                        SF_start=13700.0,\n",
    "                                                                                        SF_duration=0.0,\n",
    "                                                                                        met=0.02,\n",
    "                                                                                        size=100000)"
   ]
  },
  {
   "cell_type": "code",
   "execution_count": 13,
   "id": "f955173e-a252-4891-bec6-020e3d7b9daa",
   "metadata": {},
   "outputs": [],
   "source": [
    "initC_Sana, m_sin_Sana, m_bin_Sana, n_sin_Sana, n_bin_Sana = InitialBinaryTable.sampler('independent',\n",
    "                                                                                        final_kstar1=final_kstar,\n",
    "                                                                                        final_kstar2=final_kstar,\n",
    "                                                                                        binfrac_model=1.0,\n",
    "                                                                                        primary_model='kroupa01',\n",
    "                                                                                        ecc_model='sana12',\n",
    "                                                                                        porb_model='sana12',\n",
    "                                                                                        qmin=-1,\n",
    "                                                                                        SF_start=13700.0,\n",
    "                                                                                        SF_duration=0.0,\n",
    "                                                                                        met=0.02,\n",
    "                                                                                        size=100000)"
   ]
  },
  {
   "cell_type": "code",
   "execution_count": 15,
   "id": "ebd6f356-a427-4f1e-9880-c449dca80906",
   "metadata": {},
   "outputs": [],
   "source": [
    "initC_logP['sep'] = a_from_p(p=initC_logP.porb, m1=initC_logP.mass_1, m2=initC_logP.mass_2)\n",
    "initC_Sana['sep'] = a_from_p(p=initC_Sana.porb, m1=initC_Sana.mass_1, m2=initC_Sana.mass_2)"
   ]
  },
  {
   "cell_type": "code",
   "execution_count": 16,
   "id": "09ed42ea-ef95-4660-837f-928fdc89109e",
   "metadata": {},
   "outputs": [
    {
     "name": "stderr",
     "output_type": "stream",
     "text": [
      "/home/pranav/miniconda3/envs/cosmic/lib/python3.7/site-packages/ipykernel_launcher.py:43: UserWarning: Matplotlib is currently using module://matplotlib_inline.backend_inline, which is a non-GUI backend, so cannot show the figure.\n"
     ]
    },
    {
     "data": {
      "image/png": "[encoded data removed]",
      "text/plain": [
       "<Figure size 1080x432 with 6 Axes>"
      ]
     },
     "metadata": {
      "needs_background": "light"
     },
     "output_type": "display_data"
    }
   ],
   "source": [
    "fig = plt.figure(figsize = (15,6))\n",
    "ax1 = plt.subplot(231)\n",
    "ax2 = plt.subplot(232)\n",
    "ax3 = plt.subplot(233)\n",
    "ax4 = plt.subplot(234)\n",
    "ax5 = plt.subplot(235)\n",
    "ax6 = plt.subplot(236)\n",
    "\n",
    "ax1.hist(np.log10(initC_logP.mass_1), bins = 20, histtype='step', density=True,\n",
    "         lw=3, color=colors['purple'], label='independent')\n",
    "ax1.hist(np.log10(initC_Sana.mass_1), bins = 20, histtype='step', density=True,\n",
    "         lw=3, color=colors['orange'], label='Sana+2012')\n",
    "ax1.set_xlabel(r'Log$_{10}$(M$_1$/M$_{\\odot}$)', size=18)\n",
    "ax1.set_ylabel('normalized counts', size=18)\n",
    "ax1.legend(prop={'size' : 18})\n",
    "\n",
    "ax2.hist(np.log10(initC_logP.porb), bins = 20, histtype='step', density=True,\n",
    "         lw=3, color=colors['purple'], label='independent')\n",
    "ax2.hist(np.log10(initC_Sana.porb), bins = 20, histtype='step', density=True,\n",
    "         lw=3, color=colors['orange'], label='Sana+2012')\n",
    "ax2.set_xlabel(r'Log$_{10}$(P$_{\\rm{orb}}$/day)', size=18)\n",
    "\n",
    "ax3.hist(initC_logP.ecc, bins = 10, histtype='step', density=True,\n",
    "         lw=3, color=colors['purple'], label='independent')\n",
    "ax3.hist(initC_Sana.ecc, bins = 10, histtype='step', density=True,\n",
    "         lw=3, color=colors['orange'], label='Sana+2012')\n",
    "ax3.set_xlabel('Eccentricity', size=18)\n",
    "\n",
    "ax4.hist(initC_logP.mass_2/initC_logP.mass_1, bins = 20, histtype='step', density=True,\n",
    "         lw=3, color=colors['purple'], label='independent')\n",
    "ax4.hist(initC_Sana.mass_2/initC_Sana.mass_1, bins = 20, histtype='step', density=True,\n",
    "         lw=3, color=colors['orange'], label='Sana+2012')\n",
    "ax4.set_xlabel(r'q=M$_1$/M$_2$', size=18)\n",
    "ax4.set_ylabel('normalized counts', size=18)\n",
    "\n",
    "ax5.hist(np.log10(initC_logP.sep), bins = 20, histtype='step', density=True,\n",
    "         lw=3, color=colors['purple'], label='independent')\n",
    "\n",
    "ax5.hist(np.log10(initC_Sana.sep), bins = 20, histtype='step', density=True,\n",
    "         lw=3, color=colors['orange'], label='Sana+2012')\n",
    "ax5.set_xlabel(r'Log$_{10}$(a/R$_{\\odot}$)', size=18)\n",
    "\n",
    "ax6.hist(np.log10(initC_logP.sep*(1-initC_logP.ecc)), bins = 20, histtype='step', density=True,\n",
    "         lw=3, color=colors['purple'], label='independent')\n",
    "\n",
    "ax6.hist(np.log10(initC_Sana.sep*(1-initC_Sana.ecc)), bins = 20, histtype='step', density=True,\n",
    "         lw=3, color=colors['orange'], label='Sana+2012')\n",
    "ax6.set_xlabel(r'Log$_{10}$(a(1-e)/R$_{\\odot}$)', size=18)\n",
    "fig.tight_layout()\n",
    "fig.show()"
   ]
  },
  {
   "cell_type": "code",
   "execution_count": 17,
   "id": "1b62cc1d-07dd-4a09-8e99-1b33a4242b3e",
   "metadata": {},
   "outputs": [],
   "source": [
    "from cosmic.sample.sampler import multidim"
   ]
  },
  {
   "cell_type": "code",
   "execution_count": 18,
   "id": "219cfb14-2606-489d-bbb7-66d538831dfe",
   "metadata": {},
   "outputs": [],
   "source": [
    "InitialBinaries, mass_singles, mass_binaries, n_singles, n_binaries = InitialBinaryTable.sampler('multidim', final_kstar1=[11], final_kstar2=[11], rand_seed=2, nproc=1, SF_start=13700.0, SF_duration=0.0, met=0.02, size=10)"
   ]
  },
  {
   "cell_type": "code",
   "execution_count": 19,
   "id": "3974c1cd-ec6f-4a85-b8cc-3f21218cbe2b",
   "metadata": {},
   "outputs": [
    {
     "name": "stdout",
     "output_type": "stream",
     "text": [
      "   kstar_1  kstar_2     mass_1    mass_2           porb       ecc  \\\n",
      "0      1.0      1.0   3.686712  0.806328  161026.959409  0.829034   \n",
      "1      1.0      1.0   0.974390  0.881366      25.334034  0.126290   \n",
      "2      1.0      1.0   2.479799  0.831304      60.621679  0.545004   \n",
      "3      1.0      1.0   1.125074  0.976918   29228.830150  0.713424   \n",
      "4      1.0      1.0   5.805987  3.358740     118.636803  0.718332   \n",
      "5      1.0      1.0  15.916263  6.395108   15884.228362  0.727113   \n",
      "6      1.0      1.0   1.710108  1.069395   55655.129136  0.900815   \n",
      "7      1.0      1.0   2.401816  1.261706     189.173552  0.264586   \n",
      "8      1.0      1.0   2.892138  0.988218     179.329874  0.085426   \n",
      "9      1.0      1.0   2.433570  2.134182   14727.306379  0.261487   \n",
      "\n",
      "   metallicity   tphysf    mass0_1   mass0_2  ...  tacc_1  tacc_2  epoch_1  \\\n",
      "0         0.02  13700.0   3.686712  0.806328  ...     0.0     0.0      0.0   \n",
      "1         0.02  13700.0   0.974390  0.881366  ...     0.0     0.0      0.0   \n",
      "2         0.02  13700.0   2.479799  0.831304  ...     0.0     0.0      0.0   \n",
      "3         0.02  13700.0   1.125074  0.976918  ...     0.0     0.0      0.0   \n",
      "4         0.02  13700.0   5.805987  3.358740  ...     0.0     0.0      0.0   \n",
      "5         0.02  13700.0  15.916263  6.395108  ...     0.0     0.0      0.0   \n",
      "6         0.02  13700.0   1.710108  1.069395  ...     0.0     0.0      0.0   \n",
      "7         0.02  13700.0   2.401816  1.261706  ...     0.0     0.0      0.0   \n",
      "8         0.02  13700.0   2.892138  0.988218  ...     0.0     0.0      0.0   \n",
      "9         0.02  13700.0   2.433570  2.134182  ...     0.0     0.0      0.0   \n",
      "\n",
      "   epoch_2  tms_1  tms_2  bhspin_1  bhspin_2  tphys   binfrac  \n",
      "0      0.0    0.0    0.0       0.0       0.0    0.0  0.614692  \n",
      "1      0.0    0.0    0.0       0.0       0.0    0.0  0.406506  \n",
      "2      0.0    0.0    0.0       0.0       0.0    0.0  0.528636  \n",
      "3      0.0    0.0    0.0       0.0       0.0    0.0  0.411491  \n",
      "4      0.0    0.0    0.0       0.0       0.0    0.0  0.795156  \n",
      "5      0.0    0.0    0.0       0.0       0.0    0.0  0.895210  \n",
      "6      0.0    0.0    0.0       0.0       0.0    0.0  0.459633  \n",
      "7      0.0    0.0    0.0       0.0       0.0    0.0  0.521047  \n",
      "8      0.0    0.0    0.0       0.0       0.0    0.0  0.560256  \n",
      "9      0.0    0.0    0.0       0.0       0.0    0.0  0.521047  \n",
      "\n",
      "[10 rows x 38 columns]\n"
     ]
    }
   ],
   "source": [
    "print(InitialBinaries)"
   ]
  },
  {
   "cell_type": "code",
   "execution_count": 20,
   "id": "99e37a67-a526-4fb1-9280-df58b996029f",
   "metadata": {},
   "outputs": [],
   "source": [
    "final_kstar = np.linspace(0,14,15)\n",
    "colors = {'green' : '#1b9e77', 'purple' : '#d95f02', 'orange' : '#7570b3'}\n",
    "final_kstar = np.linspace(0,14,15)\n",
    "initC_mult, m_sin_mult, m_bin_mult, n_sin_mult, n_bin_mult = InitialBinaryTable.sampler('multidim',\n",
    "                                                                                        final_kstar1=final_kstar,\n",
    "                                                                                        final_kstar2=final_kstar,\n",
    "                                                                                        rand_seed=2,\n",
    "                                                                                        nproc=1,\n",
    "                                                                                        SF_start=13700.0,\n",
    "                                                                                        SF_duration=0.0,\n",
    "                                                                                        met=0.02,\n",
    "                                                                                        size=100000)\n",
    "initC_mult['sep'] = a_from_p(p=initC_mult.porb, m1=initC_mult.mass_1, m2=initC_mult.mass_2)"
   ]
  },
  {
   "cell_type": "code",
   "execution_count": 30,
   "id": "80e9b934-f252-427e-8941-96a2d2adec08",
   "metadata": {},
   "outputs": [
    {
     "data": {
      "image/png": "[encoded data removed]",
      "text/plain": [
       "<Figure size 432x288 with 1 Axes>"
      ]
     },
     "metadata": {
      "needs_background": "light"
     },
     "output_type": "display_data"
    }
   ],
   "source": [
    "plt.hist(np.log10(initC_mult.mass_1), bins = 20, histtype='step', density=True,\n",
    "         lw=3, color=colors['purple'], label='multi')\n",
    "plt.hist(np.log10(initC_logP.mass_1), bins = 20, histtype='step', density=True,\n",
    "         lw=3, color=colors['green'], label='independent')\n",
    "plt.legend()\n",
    "plt.xlabel(r'Log$_{10}$(M$_1$/M$_{\\odot}$)', size=18)\n",
    "plt.ylabel('normalized counts', size=18)\n",
    "plt.show()"
   ]
  },
  {
   "cell_type": "code",
   "execution_count": 31,
   "id": "208f5673-0e3e-4924-85e5-6be8c921acdd",
   "metadata": {},
   "outputs": [
    {
     "data": {
      "image/png": "[encoded data removed]",
      "text/plain": [
       "<Figure size 432x288 with 1 Axes>"
      ]
     },
     "metadata": {
      "needs_background": "light"
     },
     "output_type": "display_data"
    }
   ],
   "source": [
    "plt.hist(np.log10(initC_mult.mass_2), bins = 20, histtype='step', density=True,\n",
    "         lw=3, color=colors['purple'], label='multi')\n",
    "plt.hist(np.log10(initC_logP.mass_2), bins = 20, histtype='step', density=True,\n",
    "         lw=3, color=colors['green'], label='independent')\n",
    "plt.legend()\n",
    "plt.xlabel(r'Log$_{10}$(M$_1$/M$_{\\odot}$)', size=18)\n",
    "plt.ylabel('normalized counts', size=18)\n",
    "plt.show()"
   ]
  },
  {
   "cell_type": "code",
   "execution_count": 35,
   "id": "5601897e-0b64-40b9-aacb-900588fb6ad1",
   "metadata": {},
   "outputs": [
    {
     "name": "stdout",
     "output_type": "stream",
     "text": [
      "286908.9982449948\n"
     ]
    }
   ],
   "source": [
    "print(m_bin_mult)"
   ]
  },
  {
   "cell_type": "code",
   "execution_count": 36,
   "id": "d87561e3-f1f9-42ca-80b7-6e81fa3cd5f3",
   "metadata": {},
   "outputs": [],
   "source": [
    "from cosmic.evolve import Evolve"
   ]
  },
  {
   "cell_type": "code",
   "execution_count": 37,
   "id": "8c42a053-d9c2-49dc-99ee-c6c60f15eb6e",
   "metadata": {},
   "outputs": [],
   "source": [
    "BSEDict = {'xi': 1.0, 'bhflag': 1, 'neta': 0.5, 'windflag': 3, 'wdflag': 1, 'alpha1': 1.0, 'pts1': 0.001, 'pts3': 0.02, 'pts2': 0.01, 'epsnov': 0.001, 'hewind': 0.5, 'ck': 1000, 'bwind': 0.0, 'lambdaf': 0.0, 'mxns': 3.0, 'beta': -1.0, 'tflag': 1, 'acc2': 1.5, 'grflag' : 1, 'remnantflag': 4, 'ceflag': 0, 'eddfac': 1.0, 'ifflag': 0, 'bconst': 3000, 'sigma': 265.0, 'gamma': -2.0, 'pisn': 45.0, 'natal_kick_array' : [[-100.0,-100.0,-100.0,-100.0,0.0], [-100.0,-100.0,-100.0,-100.0,0.0]], 'bhsigmafrac' : 1.0, 'polar_kick_angle' : 90, 'qcrit_array' : [0.0,0.0,0.0,0.0,0.0,0.0,0.0,0.0,0.0,0.0,0.0,0.0,0.0,0.0,0.0,0.0], 'cekickflag' : 2, 'cehestarflag' : 0, 'cemergeflag' : 0, 'ecsn' : 2.25, 'ecsn_mlow' : 1.6, 'aic' : 1, 'ussn' : 0, 'sigmadiv' :-20.0, 'qcflag' : 1, 'eddlimflag' : 0, 'fprimc_array' : [2.0/21.0,2.0/21.0,2.0/21.0,2.0/21.0,2.0/21.0,2.0/21.0,2.0/21.0,2.0/21.0,2.0/21.0,2.0/21.0,2.0/21.0,2.0/21.0,2.0/21.0,2.0/21.0,2.0/21.0,2.0/21.0], 'bhspinflag' : 0, 'bhspinmag' : 0.0, 'rejuv_fac' : 1.0, 'rejuvflag' : 0, 'htpmb' : 1, 'ST_cr' : 1, 'ST_tide' : 1, 'bdecayfac' : 1, 'rembar_massloss' : 0.5, 'kickflag' : 0, 'zsun' : 0.014, 'bhms_coll_flag' : 0, 'don_lim' : -1, 'acc_lim' : -1}\n"
   ]
  },
  {
   "cell_type": "code",
   "execution_count": 38,
   "id": "5410fb18-f318-4a18-abee-5528ed8ae73f",
   "metadata": {},
   "outputs": [],
   "source": [
    "bpp, bcm, initC, kick_info  = Evolve.evolve(initialbinarytable=InitialBinaries, BSEDict=BSEDict)"
   ]
  },
  {
   "cell_type": "code",
   "execution_count": 39,
   "id": "e9aa64cb-77d1-4338-98bf-7e215b7b6f85",
   "metadata": {},
   "outputs": [
    {
     "name": "stdout",
     "output_type": "stream",
     "text": [
      "     tphys  kstar_1   mass0_1    mass_1       lum_1     rad_1        teff_1  \\\n",
      "0      0.0      1.0  3.686712  3.686712  168.770026  2.337430  13668.603686   \n",
      "0  13700.0     11.0  0.813263  0.813263    0.000003  0.010159   2420.129431   \n",
      "1      0.0      1.0  0.974390  0.974390    0.553692  0.859742   5393.896416   \n",
      "1  13700.0      2.0  0.974245  0.974245    1.834161  1.859697   4947.752034   \n",
      "2      0.0      1.0  2.479799  2.479799   35.960890  1.878811  10358.233251   \n",
      "2  13700.0     11.0  0.616944  0.616944    0.000003  0.012552   2182.988314   \n",
      "3      0.0      1.0  1.125074  1.125074    1.113993  1.028096   5874.533980   \n",
      "3  13700.0     11.0  0.513016  0.513016    0.000057  0.014025   4250.487032   \n",
      "4      0.0      1.0  5.805987  5.805987  892.365648  3.027531  18212.143051   \n",
      "4  13700.0     15.0  0.922493  0.000000    0.072121  0.008885  31875.723819   \n",
      "\n",
      "    massc_1    radc_1        menv_1  ...          porb           sep  \\\n",
      "0  0.000000  0.000000  1.000000e-10  ...  1.610270e+05  20546.178672   \n",
      "0  0.813263  0.010159  1.000000e-10  ...  1.195286e+06  55685.623468   \n",
      "1  0.000000  0.000000  3.575286e-02  ...  2.533403e+01     44.592494   \n",
      "1  0.117571  0.130174  6.034910e-02  ...  2.535538e+01     44.616389   \n",
      "2  0.000000  0.000000  1.000000e-10  ...  6.062168e+01     96.759750   \n",
      "2  0.616944  0.012552  1.000000e-10  ...  0.000000e+00      0.000000   \n",
      "3  0.000000  0.000000  1.798046e-02  ...  2.922883e+04   5113.323238   \n",
      "3  0.513016  0.014025  1.000000e-10  ...  5.234886e+04   6740.339957   \n",
      "4  0.000000  0.000000  1.000000e-10  ...  1.186368e+02    212.555021   \n",
      "4  0.000000  0.008885  1.000000e-10  ...  0.000000e+00      0.000000   \n",
      "\n",
      "        ecc  B_1           B_2  SN_1  SN_2  bin_state  merger_type  bin_num  \n",
      "0  0.829034  0.0  0.000000e+00   0.0   0.0          0         -001        0  \n",
      "0  0.825673  0.0  0.000000e+00   0.0   0.0          0         -001        0  \n",
      "1  0.126290  0.0  0.000000e+00   0.0   0.0          0         -001        1  \n",
      "1  0.126220  0.0  0.000000e+00   0.0   0.0          0         -001        1  \n",
      "2  0.545004  0.0  0.000000e+00   0.0   0.0          0         -001        2  \n",
      "2 -1.000000  0.0  0.000000e+00   0.0   0.0          1         0301        2  \n",
      "3  0.713424  0.0  0.000000e+00   0.0   0.0          0         -001        3  \n",
      "3  0.700368  0.0  0.000000e+00   0.0   0.0          0         -001        3  \n",
      "4  0.718332  0.0  0.000000e+00   0.0   0.0          0         -001        4  \n",
      "4 -1.000000  0.0  1.489684e+11   0.0   2.0          1         0811        4  \n",
      "\n",
      "[10 rows x 39 columns]\n"
     ]
    }
   ],
   "source": [
    "print(bcm.iloc[:10])"
   ]
  },
  {
   "cell_type": "code",
   "execution_count": 40,
   "id": "398c6ea9-4bba-46f5-b8e0-fa20f4f10fc1",
   "metadata": {},
   "outputs": [
    {
     "name": "stdout",
     "output_type": "stream",
     "text": [
      "           tphys    mass_1    mass_2  kstar_1  kstar_2           sep  \\\n",
      "0       0.000000  3.686712  0.806328      1.0      1.0  20546.178672   \n",
      "0     227.344776  3.685941  0.806328      2.0      1.0  20549.705507   \n",
      "0     228.482113  3.685686  0.806328      3.0      1.0  20550.871773   \n",
      "0     229.578244  3.684182  0.806328      4.0      1.0  20557.756156   \n",
      "0     274.607762  3.642206  0.806328      5.0      1.0  20751.715145   \n",
      "..           ...       ...       ...      ...      ...           ...   \n",
      "9    1016.712071  0.631755  2.309330     11.0      4.0   5491.571643   \n",
      "9    1228.214144  0.631756  2.278526     11.0      5.0   5549.692313   \n",
      "9    1232.404068  0.631777  2.246761     11.0      6.0   5610.514067   \n",
      "9    1233.387405  0.640961  0.608647     11.0     11.0  12608.126838   \n",
      "9   13700.000000  0.640961  0.608647     11.0     11.0  12608.126839   \n",
      "\n",
      "             porb       ecc    RRLO_1    RRLO_2  ...  B_2  bacc_1  bacc_2  \\\n",
      "0   161026.959409  0.829034  0.001297  0.000812  ...  0.0     0.0     0.0   \n",
      "0   161082.246018  0.829034  0.003027  0.000813  ...  0.0     0.0     0.0   \n",
      "0   161100.530559  0.829034  0.015616  0.000813  ...  0.0     0.0     0.0   \n",
      "0   161208.489533  0.829034  0.046832  0.000813  ...  0.0     0.0     0.0   \n",
      "0   164264.861197  0.829034  0.032165  0.000803  ...  0.0     0.0     0.0   \n",
      "..            ...       ...       ...       ...  ...  ...     ...     ...   \n",
      "9    27501.941155  0.235495  0.000011  0.019330  ...  0.0     0.0     0.0   \n",
      "9    28087.167914  0.235495  0.000011  0.015424  ...  0.0     0.0     0.0   \n",
      "9    28707.152535  0.235490  0.000010  0.124260  ...  0.0     0.0     0.0   \n",
      "9   146778.031372  0.232575  0.000003  0.000003  ...  0.0     0.0     0.0   \n",
      "9   146778.031386  0.232575  0.000003  0.000003  ...  0.0     0.0     0.0   \n",
      "\n",
      "    tacc_1  tacc_2     epoch_1       epoch_2  bhspin_1  bhspin_2  bin_num  \n",
      "0      0.0     0.0    0.000000  0.000000e+00       0.0       0.0        0  \n",
      "0      0.0     0.0   -0.038237  0.000000e+00       0.0       0.0        0  \n",
      "0      0.0     0.0   -0.079592  1.946831e-07       0.0       0.0        0  \n",
      "0      0.0     0.0   -0.079592  1.426864e-05       0.0       0.0        0  \n",
      "0      0.0     0.0   -0.079592  3.164031e-04       0.0       0.0        0  \n",
      "..     ...     ...         ...           ...       ...       ...      ...  \n",
      "9      0.0     0.0  905.359516  1.853171e+02       0.0       0.0        9  \n",
      "9      0.0     0.0  905.359516  1.853171e+02       0.0       0.0        9  \n",
      "9      0.0     0.0  905.359516  1.853171e+02       0.0       0.0        9  \n",
      "9      0.0     0.0  905.359516  1.233387e+03       0.0       0.0        9  \n",
      "9      0.0     0.0  905.359516  1.233387e+03       0.0       0.0        9  \n",
      "\n",
      "[134 rows x 44 columns]\n"
     ]
    }
   ],
   "source": [
    "print(bpp)"
   ]
  },
  {
   "cell_type": "code",
   "execution_count": 63,
   "id": "2b8e418f-c968-48d9-8ce4-9c0a19d32e5d",
   "metadata": {},
   "outputs": [
    {
     "data": {
      "image/png": "[encoded data removed]",
      "text/plain": [
       "<Figure size 432x288 with 1 Axes>"
      ]
     },
     "metadata": {
      "needs_background": "light"
     },
     "output_type": "display_data"
    }
   ],
   "source": [
    "for i in range(9):\n",
    "    plt.loglog(bpp.tphys[i],bpp.mass_1[i])"
   ]
  },
  {
   "cell_type": "code",
   "execution_count": null,
   "id": "be4fa4be-3cd4-4a18-b073-c97a81477d63",
   "metadata": {},
   "outputs": [],
   "source": []
  }
 ],
 "metadata": {
  "kernelspec": {
   "display_name": "cosmic",
   "language": "python",
   "name": "cosmic"
  },
  "language_info": {
   "codemirror_mode": {
    "name": "ipython",
    "version": 3
   },
   "file_extension": ".py",
   "mimetype": "text/x-python",
   "name": "python",
   "nbconvert_exporter": "python",
   "pygments_lexer": "ipython3",
   "version": "3.7.12"
  }
 },
 "nbformat": 4,
 "nbformat_minor": 5
}
